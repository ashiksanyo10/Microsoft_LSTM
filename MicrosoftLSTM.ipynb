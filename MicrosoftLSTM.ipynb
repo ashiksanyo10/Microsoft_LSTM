{
  "nbformat": 4,
  "nbformat_minor": 0,
  "metadata": {
    "colab": {
      "provenance": []
    },
    "kernelspec": {
      "name": "python3",
      "display_name": "Python 3"
    },
    "language_info": {
      "name": "python"
    }
  },
  "cells": [
    {
      "cell_type": "code",
      "execution_count": null,
      "metadata": {
        "id": "TCHDWhQeeLYk"
      },
      "outputs": [],
      "source": [
        "import numpy as np\n",
        "import pandas as pd\n",
        "import matplotlib.pyplot as plt\n",
        "import seaborn as sns"
      ]
    },
    {
      "cell_type": "code",
      "source": [
        "df =  pd.read_csv(\"/content/drive/MyDrive/Placement_Projects/StockPrice/MSFT.csv\")\n",
        "df.head()"
      ],
      "metadata": {
        "colab": {
          "base_uri": "https://localhost:8080/",
          "height": 206
        },
        "id": "D6lSq5Q-e1TS",
        "outputId": "6c2aa5b6-7d2c-4a21-f3c1-ca15124d6e0d"
      },
      "execution_count": null,
      "outputs": [
        {
          "output_type": "execute_result",
          "data": {
            "text/plain": [
              "         Date      Open      High       Low     Close  Adj Close      Volume\n",
              "0  1986-03-13  0.088542  0.101563  0.088542  0.097222   0.060524  1031788800\n",
              "1  1986-03-14  0.097222  0.102431  0.097222  0.100694   0.062686   308160000\n",
              "2  1986-03-17  0.100694  0.103299  0.100694  0.102431   0.063767   133171200\n",
              "3  1986-03-18  0.102431  0.103299  0.098958  0.099826   0.062145    67766400\n",
              "4  1986-03-19  0.099826  0.100694  0.097222  0.098090   0.061065    47894400"
            ],
            "text/html": [
              "\n",
              "  <div id=\"df-f3cf314e-b2fc-4ab7-86af-b658b0ef4b6b\">\n",
              "    <div class=\"colab-df-container\">\n",
              "      <div>\n",
              "<style scoped>\n",
              "    .dataframe tbody tr th:only-of-type {\n",
              "        vertical-align: middle;\n",
              "    }\n",
              "\n",
              "    .dataframe tbody tr th {\n",
              "        vertical-align: top;\n",
              "    }\n",
              "\n",
              "    .dataframe thead th {\n",
              "        text-align: right;\n",
              "    }\n",
              "</style>\n",
              "<table border=\"1\" class=\"dataframe\">\n",
              "  <thead>\n",
              "    <tr style=\"text-align: right;\">\n",
              "      <th></th>\n",
              "      <th>Date</th>\n",
              "      <th>Open</th>\n",
              "      <th>High</th>\n",
              "      <th>Low</th>\n",
              "      <th>Close</th>\n",
              "      <th>Adj Close</th>\n",
              "      <th>Volume</th>\n",
              "    </tr>\n",
              "  </thead>\n",
              "  <tbody>\n",
              "    <tr>\n",
              "      <th>0</th>\n",
              "      <td>1986-03-13</td>\n",
              "      <td>0.088542</td>\n",
              "      <td>0.101563</td>\n",
              "      <td>0.088542</td>\n",
              "      <td>0.097222</td>\n",
              "      <td>0.060524</td>\n",
              "      <td>1031788800</td>\n",
              "    </tr>\n",
              "    <tr>\n",
              "      <th>1</th>\n",
              "      <td>1986-03-14</td>\n",
              "      <td>0.097222</td>\n",
              "      <td>0.102431</td>\n",
              "      <td>0.097222</td>\n",
              "      <td>0.100694</td>\n",
              "      <td>0.062686</td>\n",
              "      <td>308160000</td>\n",
              "    </tr>\n",
              "    <tr>\n",
              "      <th>2</th>\n",
              "      <td>1986-03-17</td>\n",
              "      <td>0.100694</td>\n",
              "      <td>0.103299</td>\n",
              "      <td>0.100694</td>\n",
              "      <td>0.102431</td>\n",
              "      <td>0.063767</td>\n",
              "      <td>133171200</td>\n",
              "    </tr>\n",
              "    <tr>\n",
              "      <th>3</th>\n",
              "      <td>1986-03-18</td>\n",
              "      <td>0.102431</td>\n",
              "      <td>0.103299</td>\n",
              "      <td>0.098958</td>\n",
              "      <td>0.099826</td>\n",
              "      <td>0.062145</td>\n",
              "      <td>67766400</td>\n",
              "    </tr>\n",
              "    <tr>\n",
              "      <th>4</th>\n",
              "      <td>1986-03-19</td>\n",
              "      <td>0.099826</td>\n",
              "      <td>0.100694</td>\n",
              "      <td>0.097222</td>\n",
              "      <td>0.098090</td>\n",
              "      <td>0.061065</td>\n",
              "      <td>47894400</td>\n",
              "    </tr>\n",
              "  </tbody>\n",
              "</table>\n",
              "</div>\n",
              "      <button class=\"colab-df-convert\" onclick=\"convertToInteractive('df-f3cf314e-b2fc-4ab7-86af-b658b0ef4b6b')\"\n",
              "              title=\"Convert this dataframe to an interactive table.\"\n",
              "              style=\"display:none;\">\n",
              "        \n",
              "  <svg xmlns=\"http://www.w3.org/2000/svg\" height=\"24px\"viewBox=\"0 0 24 24\"\n",
              "       width=\"24px\">\n",
              "    <path d=\"M0 0h24v24H0V0z\" fill=\"none\"/>\n",
              "    <path d=\"M18.56 5.44l.94 2.06.94-2.06 2.06-.94-2.06-.94-.94-2.06-.94 2.06-2.06.94zm-11 1L8.5 8.5l.94-2.06 2.06-.94-2.06-.94L8.5 2.5l-.94 2.06-2.06.94zm10 10l.94 2.06.94-2.06 2.06-.94-2.06-.94-.94-2.06-.94 2.06-2.06.94z\"/><path d=\"M17.41 7.96l-1.37-1.37c-.4-.4-.92-.59-1.43-.59-.52 0-1.04.2-1.43.59L10.3 9.45l-7.72 7.72c-.78.78-.78 2.05 0 2.83L4 21.41c.39.39.9.59 1.41.59.51 0 1.02-.2 1.41-.59l7.78-7.78 2.81-2.81c.8-.78.8-2.07 0-2.86zM5.41 20L4 18.59l7.72-7.72 1.47 1.35L5.41 20z\"/>\n",
              "  </svg>\n",
              "      </button>\n",
              "      \n",
              "  <style>\n",
              "    .colab-df-container {\n",
              "      display:flex;\n",
              "      flex-wrap:wrap;\n",
              "      gap: 12px;\n",
              "    }\n",
              "\n",
              "    .colab-df-convert {\n",
              "      background-color: #E8F0FE;\n",
              "      border: none;\n",
              "      border-radius: 50%;\n",
              "      cursor: pointer;\n",
              "      display: none;\n",
              "      fill: #1967D2;\n",
              "      height: 32px;\n",
              "      padding: 0 0 0 0;\n",
              "      width: 32px;\n",
              "    }\n",
              "\n",
              "    .colab-df-convert:hover {\n",
              "      background-color: #E2EBFA;\n",
              "      box-shadow: 0px 1px 2px rgba(60, 64, 67, 0.3), 0px 1px 3px 1px rgba(60, 64, 67, 0.15);\n",
              "      fill: #174EA6;\n",
              "    }\n",
              "\n",
              "    [theme=dark] .colab-df-convert {\n",
              "      background-color: #3B4455;\n",
              "      fill: #D2E3FC;\n",
              "    }\n",
              "\n",
              "    [theme=dark] .colab-df-convert:hover {\n",
              "      background-color: #434B5C;\n",
              "      box-shadow: 0px 1px 3px 1px rgba(0, 0, 0, 0.15);\n",
              "      filter: drop-shadow(0px 1px 2px rgba(0, 0, 0, 0.3));\n",
              "      fill: #FFFFFF;\n",
              "    }\n",
              "  </style>\n",
              "\n",
              "      <script>\n",
              "        const buttonEl =\n",
              "          document.querySelector('#df-f3cf314e-b2fc-4ab7-86af-b658b0ef4b6b button.colab-df-convert');\n",
              "        buttonEl.style.display =\n",
              "          google.colab.kernel.accessAllowed ? 'block' : 'none';\n",
              "\n",
              "        async function convertToInteractive(key) {\n",
              "          const element = document.querySelector('#df-f3cf314e-b2fc-4ab7-86af-b658b0ef4b6b');\n",
              "          const dataTable =\n",
              "            await google.colab.kernel.invokeFunction('convertToInteractive',\n",
              "                                                     [key], {});\n",
              "          if (!dataTable) return;\n",
              "\n",
              "          const docLinkHtml = 'Like what you see? Visit the ' +\n",
              "            '<a target=\"_blank\" href=https://colab.research.google.com/notebooks/data_table.ipynb>data table notebook</a>'\n",
              "            + ' to learn more about interactive tables.';\n",
              "          element.innerHTML = '';\n",
              "          dataTable['output_type'] = 'display_data';\n",
              "          await google.colab.output.renderOutput(dataTable, element);\n",
              "          const docLink = document.createElement('div');\n",
              "          docLink.innerHTML = docLinkHtml;\n",
              "          element.appendChild(docLink);\n",
              "        }\n",
              "      </script>\n",
              "    </div>\n",
              "  </div>\n",
              "  "
            ]
          },
          "metadata": {},
          "execution_count": 13
        }
      ]
    },
    {
      "cell_type": "markdown",
      "source": [
        "# About the DataSet\n",
        "\n",
        "Date: This column represents the specific date associated with the stock trading activity. Each row in the dataset corresponds to a particular date.\n",
        "\n",
        "Open: The \"Open\" price refers to the price at which the stock started trading on a particular day. It is the first recorded price for that day's trading session.\n",
        "\n",
        "High: The \"High\" price represents the highest price at which the stock traded during the day. It shows the peak price reached by the stock within that trading session.\n",
        "\n",
        "Low: The \"Low\" price is the lowest price at which the stock traded during the day. It indicates the bottom price reached by the stock within that trading session.\n",
        "\n",
        "Close: The \"Close\" price refers to the final price at which the stock traded on that day. It is the last recorded price for that day's trading session.\n",
        "\n",
        "Adj Close: It is an adjustment to the stocks closing price to represent the stocks worth after any corporate action have taken place\n",
        "\n",
        "Volume: The \"Volume\" column represents the total number of shares traded during the day. It indicates the level of trading activity or liquidity for that particular stock on that date."
      ],
      "metadata": {
        "id": "Vp7QX65qgPea"
      }
    },
    {
      "cell_type": "code",
      "source": [
        "df.shape"
      ],
      "metadata": {
        "colab": {
          "base_uri": "https://localhost:8080/"
        },
        "id": "1H6nfskcfWFT",
        "outputId": "fbf77a71-e54a-4162-958f-871b87476c1e"
      },
      "execution_count": null,
      "outputs": [
        {
          "output_type": "execute_result",
          "data": {
            "text/plain": [
              "(9401, 7)"
            ]
          },
          "metadata": {},
          "execution_count": 14
        }
      ]
    },
    {
      "cell_type": "code",
      "source": [
        "df.describe()"
      ],
      "metadata": {
        "colab": {
          "base_uri": "https://localhost:8080/",
          "height": 300
        },
        "id": "m62aRGb4fa4A",
        "outputId": "ea483a7f-c83c-401d-d0fd-08f7a798ec97"
      },
      "execution_count": null,
      "outputs": [
        {
          "output_type": "execute_result",
          "data": {
            "text/plain": [
              "              Open         High          Low        Close    Adj Close  \\\n",
              "count  9401.000000  9401.000000  9401.000000  9401.000000  9401.000000   \n",
              "mean     49.031383    49.561792    48.494466    49.047438    43.656941   \n",
              "std      71.895636    72.645679    71.125966    71.927685    71.987800   \n",
              "min       0.088542     0.092014     0.088542     0.090278     0.056201   \n",
              "25%       5.375000     5.468750     5.304688     5.390625     3.355866   \n",
              "50%      27.080000    27.375000    26.850000    27.110001    19.066265   \n",
              "75%      43.875000    44.299999    43.270000    43.900002    33.811615   \n",
              "max     351.320007   351.470001   342.200012   348.100006   348.100006   \n",
              "\n",
              "             Volume  \n",
              "count  9.401000e+03  \n",
              "mean   5.775576e+07  \n",
              "std    3.821170e+07  \n",
              "min    2.304000e+06  \n",
              "25%    3.347280e+07  \n",
              "50%    5.095560e+07  \n",
              "75%    7.152960e+07  \n",
              "max    1.031789e+09  "
            ],
            "text/html": [
              "\n",
              "  <div id=\"df-0cd6aaa4-04a9-4270-9456-cfa24eb03923\">\n",
              "    <div class=\"colab-df-container\">\n",
              "      <div>\n",
              "<style scoped>\n",
              "    .dataframe tbody tr th:only-of-type {\n",
              "        vertical-align: middle;\n",
              "    }\n",
              "\n",
              "    .dataframe tbody tr th {\n",
              "        vertical-align: top;\n",
              "    }\n",
              "\n",
              "    .dataframe thead th {\n",
              "        text-align: right;\n",
              "    }\n",
              "</style>\n",
              "<table border=\"1\" class=\"dataframe\">\n",
              "  <thead>\n",
              "    <tr style=\"text-align: right;\">\n",
              "      <th></th>\n",
              "      <th>Open</th>\n",
              "      <th>High</th>\n",
              "      <th>Low</th>\n",
              "      <th>Close</th>\n",
              "      <th>Adj Close</th>\n",
              "      <th>Volume</th>\n",
              "    </tr>\n",
              "  </thead>\n",
              "  <tbody>\n",
              "    <tr>\n",
              "      <th>count</th>\n",
              "      <td>9401.000000</td>\n",
              "      <td>9401.000000</td>\n",
              "      <td>9401.000000</td>\n",
              "      <td>9401.000000</td>\n",
              "      <td>9401.000000</td>\n",
              "      <td>9.401000e+03</td>\n",
              "    </tr>\n",
              "    <tr>\n",
              "      <th>mean</th>\n",
              "      <td>49.031383</td>\n",
              "      <td>49.561792</td>\n",
              "      <td>48.494466</td>\n",
              "      <td>49.047438</td>\n",
              "      <td>43.656941</td>\n",
              "      <td>5.775576e+07</td>\n",
              "    </tr>\n",
              "    <tr>\n",
              "      <th>std</th>\n",
              "      <td>71.895636</td>\n",
              "      <td>72.645679</td>\n",
              "      <td>71.125966</td>\n",
              "      <td>71.927685</td>\n",
              "      <td>71.987800</td>\n",
              "      <td>3.821170e+07</td>\n",
              "    </tr>\n",
              "    <tr>\n",
              "      <th>min</th>\n",
              "      <td>0.088542</td>\n",
              "      <td>0.092014</td>\n",
              "      <td>0.088542</td>\n",
              "      <td>0.090278</td>\n",
              "      <td>0.056201</td>\n",
              "      <td>2.304000e+06</td>\n",
              "    </tr>\n",
              "    <tr>\n",
              "      <th>25%</th>\n",
              "      <td>5.375000</td>\n",
              "      <td>5.468750</td>\n",
              "      <td>5.304688</td>\n",
              "      <td>5.390625</td>\n",
              "      <td>3.355866</td>\n",
              "      <td>3.347280e+07</td>\n",
              "    </tr>\n",
              "    <tr>\n",
              "      <th>50%</th>\n",
              "      <td>27.080000</td>\n",
              "      <td>27.375000</td>\n",
              "      <td>26.850000</td>\n",
              "      <td>27.110001</td>\n",
              "      <td>19.066265</td>\n",
              "      <td>5.095560e+07</td>\n",
              "    </tr>\n",
              "    <tr>\n",
              "      <th>75%</th>\n",
              "      <td>43.875000</td>\n",
              "      <td>44.299999</td>\n",
              "      <td>43.270000</td>\n",
              "      <td>43.900002</td>\n",
              "      <td>33.811615</td>\n",
              "      <td>7.152960e+07</td>\n",
              "    </tr>\n",
              "    <tr>\n",
              "      <th>max</th>\n",
              "      <td>351.320007</td>\n",
              "      <td>351.470001</td>\n",
              "      <td>342.200012</td>\n",
              "      <td>348.100006</td>\n",
              "      <td>348.100006</td>\n",
              "      <td>1.031789e+09</td>\n",
              "    </tr>\n",
              "  </tbody>\n",
              "</table>\n",
              "</div>\n",
              "      <button class=\"colab-df-convert\" onclick=\"convertToInteractive('df-0cd6aaa4-04a9-4270-9456-cfa24eb03923')\"\n",
              "              title=\"Convert this dataframe to an interactive table.\"\n",
              "              style=\"display:none;\">\n",
              "        \n",
              "  <svg xmlns=\"http://www.w3.org/2000/svg\" height=\"24px\"viewBox=\"0 0 24 24\"\n",
              "       width=\"24px\">\n",
              "    <path d=\"M0 0h24v24H0V0z\" fill=\"none\"/>\n",
              "    <path d=\"M18.56 5.44l.94 2.06.94-2.06 2.06-.94-2.06-.94-.94-2.06-.94 2.06-2.06.94zm-11 1L8.5 8.5l.94-2.06 2.06-.94-2.06-.94L8.5 2.5l-.94 2.06-2.06.94zm10 10l.94 2.06.94-2.06 2.06-.94-2.06-.94-.94-2.06-.94 2.06-2.06.94z\"/><path d=\"M17.41 7.96l-1.37-1.37c-.4-.4-.92-.59-1.43-.59-.52 0-1.04.2-1.43.59L10.3 9.45l-7.72 7.72c-.78.78-.78 2.05 0 2.83L4 21.41c.39.39.9.59 1.41.59.51 0 1.02-.2 1.41-.59l7.78-7.78 2.81-2.81c.8-.78.8-2.07 0-2.86zM5.41 20L4 18.59l7.72-7.72 1.47 1.35L5.41 20z\"/>\n",
              "  </svg>\n",
              "      </button>\n",
              "      \n",
              "  <style>\n",
              "    .colab-df-container {\n",
              "      display:flex;\n",
              "      flex-wrap:wrap;\n",
              "      gap: 12px;\n",
              "    }\n",
              "\n",
              "    .colab-df-convert {\n",
              "      background-color: #E8F0FE;\n",
              "      border: none;\n",
              "      border-radius: 50%;\n",
              "      cursor: pointer;\n",
              "      display: none;\n",
              "      fill: #1967D2;\n",
              "      height: 32px;\n",
              "      padding: 0 0 0 0;\n",
              "      width: 32px;\n",
              "    }\n",
              "\n",
              "    .colab-df-convert:hover {\n",
              "      background-color: #E2EBFA;\n",
              "      box-shadow: 0px 1px 2px rgba(60, 64, 67, 0.3), 0px 1px 3px 1px rgba(60, 64, 67, 0.15);\n",
              "      fill: #174EA6;\n",
              "    }\n",
              "\n",
              "    [theme=dark] .colab-df-convert {\n",
              "      background-color: #3B4455;\n",
              "      fill: #D2E3FC;\n",
              "    }\n",
              "\n",
              "    [theme=dark] .colab-df-convert:hover {\n",
              "      background-color: #434B5C;\n",
              "      box-shadow: 0px 1px 3px 1px rgba(0, 0, 0, 0.15);\n",
              "      filter: drop-shadow(0px 1px 2px rgba(0, 0, 0, 0.3));\n",
              "      fill: #FFFFFF;\n",
              "    }\n",
              "  </style>\n",
              "\n",
              "      <script>\n",
              "        const buttonEl =\n",
              "          document.querySelector('#df-0cd6aaa4-04a9-4270-9456-cfa24eb03923 button.colab-df-convert');\n",
              "        buttonEl.style.display =\n",
              "          google.colab.kernel.accessAllowed ? 'block' : 'none';\n",
              "\n",
              "        async function convertToInteractive(key) {\n",
              "          const element = document.querySelector('#df-0cd6aaa4-04a9-4270-9456-cfa24eb03923');\n",
              "          const dataTable =\n",
              "            await google.colab.kernel.invokeFunction('convertToInteractive',\n",
              "                                                     [key], {});\n",
              "          if (!dataTable) return;\n",
              "\n",
              "          const docLinkHtml = 'Like what you see? Visit the ' +\n",
              "            '<a target=\"_blank\" href=https://colab.research.google.com/notebooks/data_table.ipynb>data table notebook</a>'\n",
              "            + ' to learn more about interactive tables.';\n",
              "          element.innerHTML = '';\n",
              "          dataTable['output_type'] = 'display_data';\n",
              "          await google.colab.output.renderOutput(dataTable, element);\n",
              "          const docLink = document.createElement('div');\n",
              "          docLink.innerHTML = docLinkHtml;\n",
              "          element.appendChild(docLink);\n",
              "        }\n",
              "      </script>\n",
              "    </div>\n",
              "  </div>\n",
              "  "
            ]
          },
          "metadata": {},
          "execution_count": 15
        }
      ]
    },
    {
      "cell_type": "markdown",
      "source": [
        "# Data PreProcessing"
      ],
      "metadata": {
        "id": "gntTfgX7lvfH"
      }
    },
    {
      "cell_type": "code",
      "source": [
        "df.isnull().sum()"
      ],
      "metadata": {
        "colab": {
          "base_uri": "https://localhost:8080/"
        },
        "id": "CkehLbsJfd9t",
        "outputId": "acba8a7e-5a71-41ac-a82a-cb4b637acd03"
      },
      "execution_count": null,
      "outputs": [
        {
          "output_type": "execute_result",
          "data": {
            "text/plain": [
              "Date         0\n",
              "Open         0\n",
              "High         0\n",
              "Low          0\n",
              "Close        0\n",
              "Adj Close    0\n",
              "Volume       0\n",
              "dtype: int64"
            ]
          },
          "metadata": {},
          "execution_count": 17
        }
      ]
    },
    {
      "cell_type": "code",
      "source": [
        "#we are considering the date and the closing value of the particular day  (discard the remainaing columns)\n",
        "\n",
        "df  = df[['Date', 'Close']]\n",
        "df.head()imp"
      ],
      "metadata": {
        "colab": {
          "base_uri": "https://localhost:8080/",
          "height": 206
        },
        "id": "Wx3zugrsfhzu",
        "outputId": "7283fc9a-10c0-4a7f-bb17-6553d08f2a3f"
      },
      "execution_count": null,
      "outputs": [
        {
          "output_type": "execute_result",
          "data": {
            "text/plain": [
              "         Date     Close\n",
              "0  1986-03-13  0.097222\n",
              "1  1986-03-14  0.100694\n",
              "2  1986-03-17  0.102431\n",
              "3  1986-03-18  0.099826\n",
              "4  1986-03-19  0.098090"
            ],
            "text/html": [
              "\n",
              "  <div id=\"df-c6f49c35-25b8-4ac8-963b-6d95eeb3ec94\">\n",
              "    <div class=\"colab-df-container\">\n",
              "      <div>\n",
              "<style scoped>\n",
              "    .dataframe tbody tr th:only-of-type {\n",
              "        vertical-align: middle;\n",
              "    }\n",
              "\n",
              "    .dataframe tbody tr th {\n",
              "        vertical-align: top;\n",
              "    }\n",
              "\n",
              "    .dataframe thead th {\n",
              "        text-align: right;\n",
              "    }\n",
              "</style>\n",
              "<table border=\"1\" class=\"dataframe\">\n",
              "  <thead>\n",
              "    <tr style=\"text-align: right;\">\n",
              "      <th></th>\n",
              "      <th>Date</th>\n",
              "      <th>Close</th>\n",
              "    </tr>\n",
              "  </thead>\n",
              "  <tbody>\n",
              "    <tr>\n",
              "      <th>0</th>\n",
              "      <td>1986-03-13</td>\n",
              "      <td>0.097222</td>\n",
              "    </tr>\n",
              "    <tr>\n",
              "      <th>1</th>\n",
              "      <td>1986-03-14</td>\n",
              "      <td>0.100694</td>\n",
              "    </tr>\n",
              "    <tr>\n",
              "      <th>2</th>\n",
              "      <td>1986-03-17</td>\n",
              "      <td>0.102431</td>\n",
              "    </tr>\n",
              "    <tr>\n",
              "      <th>3</th>\n",
              "      <td>1986-03-18</td>\n",
              "      <td>0.099826</td>\n",
              "    </tr>\n",
              "    <tr>\n",
              "      <th>4</th>\n",
              "      <td>1986-03-19</td>\n",
              "      <td>0.098090</td>\n",
              "    </tr>\n",
              "  </tbody>\n",
              "</table>\n",
              "</div>\n",
              "      <button class=\"colab-df-convert\" onclick=\"convertToInteractive('df-c6f49c35-25b8-4ac8-963b-6d95eeb3ec94')\"\n",
              "              title=\"Convert this dataframe to an interactive table.\"\n",
              "              style=\"display:none;\">\n",
              "        \n",
              "  <svg xmlns=\"http://www.w3.org/2000/svg\" height=\"24px\"viewBox=\"0 0 24 24\"\n",
              "       width=\"24px\">\n",
              "    <path d=\"M0 0h24v24H0V0z\" fill=\"none\"/>\n",
              "    <path d=\"M18.56 5.44l.94 2.06.94-2.06 2.06-.94-2.06-.94-.94-2.06-.94 2.06-2.06.94zm-11 1L8.5 8.5l.94-2.06 2.06-.94-2.06-.94L8.5 2.5l-.94 2.06-2.06.94zm10 10l.94 2.06.94-2.06 2.06-.94-2.06-.94-.94-2.06-.94 2.06-2.06.94z\"/><path d=\"M17.41 7.96l-1.37-1.37c-.4-.4-.92-.59-1.43-.59-.52 0-1.04.2-1.43.59L10.3 9.45l-7.72 7.72c-.78.78-.78 2.05 0 2.83L4 21.41c.39.39.9.59 1.41.59.51 0 1.02-.2 1.41-.59l7.78-7.78 2.81-2.81c.8-.78.8-2.07 0-2.86zM5.41 20L4 18.59l7.72-7.72 1.47 1.35L5.41 20z\"/>\n",
              "  </svg>\n",
              "      </button>\n",
              "      \n",
              "  <style>\n",
              "    .colab-df-container {\n",
              "      display:flex;\n",
              "      flex-wrap:wrap;\n",
              "      gap: 12px;\n",
              "    }\n",
              "\n",
              "    .colab-df-convert {\n",
              "      background-color: #E8F0FE;\n",
              "      border: none;\n",
              "      border-radius: 50%;\n",
              "      cursor: pointer;\n",
              "      display: none;\n",
              "      fill: #1967D2;\n",
              "      height: 32px;\n",
              "      padding: 0 0 0 0;\n",
              "      width: 32px;\n",
              "    }\n",
              "\n",
              "    .colab-df-convert:hover {\n",
              "      background-color: #E2EBFA;\n",
              "      box-shadow: 0px 1px 2px rgba(60, 64, 67, 0.3), 0px 1px 3px 1px rgba(60, 64, 67, 0.15);\n",
              "      fill: #174EA6;\n",
              "    }\n",
              "\n",
              "    [theme=dark] .colab-df-convert {\n",
              "      background-color: #3B4455;\n",
              "      fill: #D2E3FC;\n",
              "    }\n",
              "\n",
              "    [theme=dark] .colab-df-convert:hover {\n",
              "      background-color: #434B5C;\n",
              "      box-shadow: 0px 1px 3px 1px rgba(0, 0, 0, 0.15);\n",
              "      filter: drop-shadow(0px 1px 2px rgba(0, 0, 0, 0.3));\n",
              "      fill: #FFFFFF;\n",
              "    }\n",
              "  </style>\n",
              "\n",
              "      <script>\n",
              "        const buttonEl =\n",
              "          document.querySelector('#df-c6f49c35-25b8-4ac8-963b-6d95eeb3ec94 button.colab-df-convert');\n",
              "        buttonEl.style.display =\n",
              "          google.colab.kernel.accessAllowed ? 'block' : 'none';\n",
              "\n",
              "        async function convertToInteractive(key) {\n",
              "          const element = document.querySelector('#df-c6f49c35-25b8-4ac8-963b-6d95eeb3ec94');\n",
              "          const dataTable =\n",
              "            await google.colab.kernel.invokeFunction('convertToInteractive',\n",
              "                                                     [key], {});\n",
              "          if (!dataTable) return;\n",
              "\n",
              "          const docLinkHtml = 'Like what you see? Visit the ' +\n",
              "            '<a target=\"_blank\" href=https://colab.research.google.com/notebooks/data_table.ipynb>data table notebook</a>'\n",
              "            + ' to learn more about interactive tables.';\n",
              "          element.innerHTML = '';\n",
              "          dataTable['output_type'] = 'display_data';\n",
              "          await google.colab.output.renderOutput(dataTable, element);\n",
              "          const docLink = document.createElement('div');\n",
              "          docLink.innerHTML = docLinkHtml;\n",
              "          element.appendChild(docLink);\n",
              "        }\n",
              "      </script>\n",
              "    </div>\n",
              "  </div>\n",
              "  "
            ]
          },
          "metadata": {},
          "execution_count": 20
        }
      ]
    },
    {
      "cell_type": "code",
      "source": [
        "#As we notice the date column consists of the date which is actually of string datatype\n",
        "\n",
        "df.dtypes"
      ],
      "metadata": {
        "colab": {
          "base_uri": "https://localhost:8080/"
        },
        "id": "ujt9UaCyftA0",
        "outputId": "c2329c94-62f4-488e-e1b6-3d0e07b33ab1"
      },
      "execution_count": null,
      "outputs": [
        {
          "output_type": "execute_result",
          "data": {
            "text/plain": [
              "Date      object\n",
              "Close    float64\n",
              "dtype: object"
            ]
          },
          "metadata": {},
          "execution_count": 24
        }
      ]
    },
    {
      "cell_type": "code",
      "source": [
        "import datetime\n",
        "\n",
        "def dateformating(s):\n",
        "  split = s.split('-')\n",
        "  year, month, day = int(split[0]), int(split[1]), int(split[2])\n",
        "  return datetime.datetime(year=year, month=month, day=day)\n",
        "\n",
        "datetime_obj = dateformating('1986-03-13')\n",
        "datetime_obj"
      ],
      "metadata": {
        "colab": {
          "base_uri": "https://localhost:8080/"
        },
        "id": "jK1tcdDYjY-m",
        "outputId": "bbc0d944-cfb6-474d-88b5-d9847ac3d6ce"
      },
      "execution_count": null,
      "outputs": [
        {
          "output_type": "execute_result",
          "data": {
            "text/plain": [
              "datetime.datetime(1986, 3, 13, 0, 0)"
            ]
          },
          "metadata": {},
          "execution_count": 27
        }
      ]
    },
    {
      "cell_type": "code",
      "source": [
        "#apply this function to whole df (also not calling the function instead we are passing the function)\n",
        "\n",
        "df['Date'] = df['Date'].apply(dateformating)"
      ],
      "metadata": {
        "id": "iWdTdxEXklFd"
      },
      "execution_count": null,
      "outputs": []
    },
    {
      "cell_type": "code",
      "source": [
        "df.dtypes"
      ],
      "metadata": {
        "colab": {
          "base_uri": "https://localhost:8080/"
        },
        "id": "vf5FCRwdlO0y",
        "outputId": "430f1776-988d-437f-d478-af8e0f689552"
      },
      "execution_count": null,
      "outputs": [
        {
          "output_type": "execute_result",
          "data": {
            "text/plain": [
              "Date     datetime64[ns]\n",
              "Close           float64\n",
              "dtype: object"
            ]
          },
          "metadata": {},
          "execution_count": 29
        }
      ]
    },
    {
      "cell_type": "code",
      "source": [
        "df.head()  #Lets take out the index and make the date coulmn as our index for easy access"
      ],
      "metadata": {
        "colab": {
          "base_uri": "https://localhost:8080/",
          "height": 206
        },
        "id": "0uh7YYwblPZJ",
        "outputId": "c48bf42f-6a98-449d-c5e3-761032ebd5ff"
      },
      "execution_count": null,
      "outputs": [
        {
          "output_type": "execute_result",
          "data": {
            "text/plain": [
              "        Date     Close\n",
              "0 1986-03-13  0.097222\n",
              "1 1986-03-14  0.100694\n",
              "2 1986-03-17  0.102431\n",
              "3 1986-03-18  0.099826\n",
              "4 1986-03-19  0.098090"
            ],
            "text/html": [
              "\n",
              "  <div id=\"df-b39866ee-539e-4481-946e-e8b06e6c93a4\">\n",
              "    <div class=\"colab-df-container\">\n",
              "      <div>\n",
              "<style scoped>\n",
              "    .dataframe tbody tr th:only-of-type {\n",
              "        vertical-align: middle;\n",
              "    }\n",
              "\n",
              "    .dataframe tbody tr th {\n",
              "        vertical-align: top;\n",
              "    }\n",
              "\n",
              "    .dataframe thead th {\n",
              "        text-align: right;\n",
              "    }\n",
              "</style>\n",
              "<table border=\"1\" class=\"dataframe\">\n",
              "  <thead>\n",
              "    <tr style=\"text-align: right;\">\n",
              "      <th></th>\n",
              "      <th>Date</th>\n",
              "      <th>Close</th>\n",
              "    </tr>\n",
              "  </thead>\n",
              "  <tbody>\n",
              "    <tr>\n",
              "      <th>0</th>\n",
              "      <td>1986-03-13</td>\n",
              "      <td>0.097222</td>\n",
              "    </tr>\n",
              "    <tr>\n",
              "      <th>1</th>\n",
              "      <td>1986-03-14</td>\n",
              "      <td>0.100694</td>\n",
              "    </tr>\n",
              "    <tr>\n",
              "      <th>2</th>\n",
              "      <td>1986-03-17</td>\n",
              "      <td>0.102431</td>\n",
              "    </tr>\n",
              "    <tr>\n",
              "      <th>3</th>\n",
              "      <td>1986-03-18</td>\n",
              "      <td>0.099826</td>\n",
              "    </tr>\n",
              "    <tr>\n",
              "      <th>4</th>\n",
              "      <td>1986-03-19</td>\n",
              "      <td>0.098090</td>\n",
              "    </tr>\n",
              "  </tbody>\n",
              "</table>\n",
              "</div>\n",
              "      <button class=\"colab-df-convert\" onclick=\"convertToInteractive('df-b39866ee-539e-4481-946e-e8b06e6c93a4')\"\n",
              "              title=\"Convert this dataframe to an interactive table.\"\n",
              "              style=\"display:none;\">\n",
              "        \n",
              "  <svg xmlns=\"http://www.w3.org/2000/svg\" height=\"24px\"viewBox=\"0 0 24 24\"\n",
              "       width=\"24px\">\n",
              "    <path d=\"M0 0h24v24H0V0z\" fill=\"none\"/>\n",
              "    <path d=\"M18.56 5.44l.94 2.06.94-2.06 2.06-.94-2.06-.94-.94-2.06-.94 2.06-2.06.94zm-11 1L8.5 8.5l.94-2.06 2.06-.94-2.06-.94L8.5 2.5l-.94 2.06-2.06.94zm10 10l.94 2.06.94-2.06 2.06-.94-2.06-.94-.94-2.06-.94 2.06-2.06.94z\"/><path d=\"M17.41 7.96l-1.37-1.37c-.4-.4-.92-.59-1.43-.59-.52 0-1.04.2-1.43.59L10.3 9.45l-7.72 7.72c-.78.78-.78 2.05 0 2.83L4 21.41c.39.39.9.59 1.41.59.51 0 1.02-.2 1.41-.59l7.78-7.78 2.81-2.81c.8-.78.8-2.07 0-2.86zM5.41 20L4 18.59l7.72-7.72 1.47 1.35L5.41 20z\"/>\n",
              "  </svg>\n",
              "      </button>\n",
              "      \n",
              "  <style>\n",
              "    .colab-df-container {\n",
              "      display:flex;\n",
              "      flex-wrap:wrap;\n",
              "      gap: 12px;\n",
              "    }\n",
              "\n",
              "    .colab-df-convert {\n",
              "      background-color: #E8F0FE;\n",
              "      border: none;\n",
              "      border-radius: 50%;\n",
              "      cursor: pointer;\n",
              "      display: none;\n",
              "      fill: #1967D2;\n",
              "      height: 32px;\n",
              "      padding: 0 0 0 0;\n",
              "      width: 32px;\n",
              "    }\n",
              "\n",
              "    .colab-df-convert:hover {\n",
              "      background-color: #E2EBFA;\n",
              "      box-shadow: 0px 1px 2px rgba(60, 64, 67, 0.3), 0px 1px 3px 1px rgba(60, 64, 67, 0.15);\n",
              "      fill: #174EA6;\n",
              "    }\n",
              "\n",
              "    [theme=dark] .colab-df-convert {\n",
              "      background-color: #3B4455;\n",
              "      fill: #D2E3FC;\n",
              "    }\n",
              "\n",
              "    [theme=dark] .colab-df-convert:hover {\n",
              "      background-color: #434B5C;\n",
              "      box-shadow: 0px 1px 3px 1px rgba(0, 0, 0, 0.15);\n",
              "      filter: drop-shadow(0px 1px 2px rgba(0, 0, 0, 0.3));\n",
              "      fill: #FFFFFF;\n",
              "    }\n",
              "  </style>\n",
              "\n",
              "      <script>\n",
              "        const buttonEl =\n",
              "          document.querySelector('#df-b39866ee-539e-4481-946e-e8b06e6c93a4 button.colab-df-convert');\n",
              "        buttonEl.style.display =\n",
              "          google.colab.kernel.accessAllowed ? 'block' : 'none';\n",
              "\n",
              "        async function convertToInteractive(key) {\n",
              "          const element = document.querySelector('#df-b39866ee-539e-4481-946e-e8b06e6c93a4');\n",
              "          const dataTable =\n",
              "            await google.colab.kernel.invokeFunction('convertToInteractive',\n",
              "                                                     [key], {});\n",
              "          if (!dataTable) return;\n",
              "\n",
              "          const docLinkHtml = 'Like what you see? Visit the ' +\n",
              "            '<a target=\"_blank\" href=https://colab.research.google.com/notebooks/data_table.ipynb>data table notebook</a>'\n",
              "            + ' to learn more about interactive tables.';\n",
              "          element.innerHTML = '';\n",
              "          dataTable['output_type'] = 'display_data';\n",
              "          await google.colab.output.renderOutput(dataTable, element);\n",
              "          const docLink = document.createElement('div');\n",
              "          docLink.innerHTML = docLinkHtml;\n",
              "          element.appendChild(docLink);\n",
              "        }\n",
              "      </script>\n",
              "    </div>\n",
              "  </div>\n",
              "  "
            ]
          },
          "metadata": {},
          "execution_count": 30
        }
      ]
    },
    {
      "cell_type": "code",
      "source": [
        "df.index = df.pop('Date')\n",
        "df.head()"
      ],
      "metadata": {
        "colab": {
          "base_uri": "https://localhost:8080/",
          "height": 238
        },
        "id": "F5sY9iyOlW-l",
        "outputId": "81aa5042-46d7-4e3c-b9ac-8b97b3282601"
      },
      "execution_count": null,
      "outputs": [
        {
          "output_type": "execute_result",
          "data": {
            "text/plain": [
              "               Close\n",
              "Date                \n",
              "1986-03-13  0.097222\n",
              "1986-03-14  0.100694\n",
              "1986-03-17  0.102431\n",
              "1986-03-18  0.099826\n",
              "1986-03-19  0.098090"
            ],
            "text/html": [
              "\n",
              "  <div id=\"df-524a96c9-78b5-49db-ace2-8eb441d9b9ec\">\n",
              "    <div class=\"colab-df-container\">\n",
              "      <div>\n",
              "<style scoped>\n",
              "    .dataframe tbody tr th:only-of-type {\n",
              "        vertical-align: middle;\n",
              "    }\n",
              "\n",
              "    .dataframe tbody tr th {\n",
              "        vertical-align: top;\n",
              "    }\n",
              "\n",
              "    .dataframe thead th {\n",
              "        text-align: right;\n",
              "    }\n",
              "</style>\n",
              "<table border=\"1\" class=\"dataframe\">\n",
              "  <thead>\n",
              "    <tr style=\"text-align: right;\">\n",
              "      <th></th>\n",
              "      <th>Close</th>\n",
              "    </tr>\n",
              "    <tr>\n",
              "      <th>Date</th>\n",
              "      <th></th>\n",
              "    </tr>\n",
              "  </thead>\n",
              "  <tbody>\n",
              "    <tr>\n",
              "      <th>1986-03-13</th>\n",
              "      <td>0.097222</td>\n",
              "    </tr>\n",
              "    <tr>\n",
              "      <th>1986-03-14</th>\n",
              "      <td>0.100694</td>\n",
              "    </tr>\n",
              "    <tr>\n",
              "      <th>1986-03-17</th>\n",
              "      <td>0.102431</td>\n",
              "    </tr>\n",
              "    <tr>\n",
              "      <th>1986-03-18</th>\n",
              "      <td>0.099826</td>\n",
              "    </tr>\n",
              "    <tr>\n",
              "      <th>1986-03-19</th>\n",
              "      <td>0.098090</td>\n",
              "    </tr>\n",
              "  </tbody>\n",
              "</table>\n",
              "</div>\n",
              "      <button class=\"colab-df-convert\" onclick=\"convertToInteractive('df-524a96c9-78b5-49db-ace2-8eb441d9b9ec')\"\n",
              "              title=\"Convert this dataframe to an interactive table.\"\n",
              "              style=\"display:none;\">\n",
              "        \n",
              "  <svg xmlns=\"http://www.w3.org/2000/svg\" height=\"24px\"viewBox=\"0 0 24 24\"\n",
              "       width=\"24px\">\n",
              "    <path d=\"M0 0h24v24H0V0z\" fill=\"none\"/>\n",
              "    <path d=\"M18.56 5.44l.94 2.06.94-2.06 2.06-.94-2.06-.94-.94-2.06-.94 2.06-2.06.94zm-11 1L8.5 8.5l.94-2.06 2.06-.94-2.06-.94L8.5 2.5l-.94 2.06-2.06.94zm10 10l.94 2.06.94-2.06 2.06-.94-2.06-.94-.94-2.06-.94 2.06-2.06.94z\"/><path d=\"M17.41 7.96l-1.37-1.37c-.4-.4-.92-.59-1.43-.59-.52 0-1.04.2-1.43.59L10.3 9.45l-7.72 7.72c-.78.78-.78 2.05 0 2.83L4 21.41c.39.39.9.59 1.41.59.51 0 1.02-.2 1.41-.59l7.78-7.78 2.81-2.81c.8-.78.8-2.07 0-2.86zM5.41 20L4 18.59l7.72-7.72 1.47 1.35L5.41 20z\"/>\n",
              "  </svg>\n",
              "      </button>\n",
              "      \n",
              "  <style>\n",
              "    .colab-df-container {\n",
              "      display:flex;\n",
              "      flex-wrap:wrap;\n",
              "      gap: 12px;\n",
              "    }\n",
              "\n",
              "    .colab-df-convert {\n",
              "      background-color: #E8F0FE;\n",
              "      border: none;\n",
              "      border-radius: 50%;\n",
              "      cursor: pointer;\n",
              "      display: none;\n",
              "      fill: #1967D2;\n",
              "      height: 32px;\n",
              "      padding: 0 0 0 0;\n",
              "      width: 32px;\n",
              "    }\n",
              "\n",
              "    .colab-df-convert:hover {\n",
              "      background-color: #E2EBFA;\n",
              "      box-shadow: 0px 1px 2px rgba(60, 64, 67, 0.3), 0px 1px 3px 1px rgba(60, 64, 67, 0.15);\n",
              "      fill: #174EA6;\n",
              "    }\n",
              "\n",
              "    [theme=dark] .colab-df-convert {\n",
              "      background-color: #3B4455;\n",
              "      fill: #D2E3FC;\n",
              "    }\n",
              "\n",
              "    [theme=dark] .colab-df-convert:hover {\n",
              "      background-color: #434B5C;\n",
              "      box-shadow: 0px 1px 3px 1px rgba(0, 0, 0, 0.15);\n",
              "      filter: drop-shadow(0px 1px 2px rgba(0, 0, 0, 0.3));\n",
              "      fill: #FFFFFF;\n",
              "    }\n",
              "  </style>\n",
              "\n",
              "      <script>\n",
              "        const buttonEl =\n",
              "          document.querySelector('#df-524a96c9-78b5-49db-ace2-8eb441d9b9ec button.colab-df-convert');\n",
              "        buttonEl.style.display =\n",
              "          google.colab.kernel.accessAllowed ? 'block' : 'none';\n",
              "\n",
              "        async function convertToInteractive(key) {\n",
              "          const element = document.querySelector('#df-524a96c9-78b5-49db-ace2-8eb441d9b9ec');\n",
              "          const dataTable =\n",
              "            await google.colab.kernel.invokeFunction('convertToInteractive',\n",
              "                                                     [key], {});\n",
              "          if (!dataTable) return;\n",
              "\n",
              "          const docLinkHtml = 'Like what you see? Visit the ' +\n",
              "            '<a target=\"_blank\" href=https://colab.research.google.com/notebooks/data_table.ipynb>data table notebook</a>'\n",
              "            + ' to learn more about interactive tables.';\n",
              "          element.innerHTML = '';\n",
              "          dataTable['output_type'] = 'display_data';\n",
              "          await google.colab.output.renderOutput(dataTable, element);\n",
              "          const docLink = document.createElement('div');\n",
              "          docLink.innerHTML = docLinkHtml;\n",
              "          element.appendChild(docLink);\n",
              "        }\n",
              "      </script>\n",
              "    </div>\n",
              "  </div>\n",
              "  "
            ]
          },
          "metadata": {},
          "execution_count": 31
        }
      ]
    },
    {
      "cell_type": "code",
      "source": [
        "df"
      ],
      "metadata": {
        "colab": {
          "base_uri": "https://localhost:8080/",
          "height": 455
        },
        "id": "oPaS7lDvp4Fa",
        "outputId": "3298e152-2e8d-4af9-ec09-eb2663864967"
      },
      "execution_count": null,
      "outputs": [
        {
          "output_type": "execute_result",
          "data": {
            "text/plain": [
              "                 Close\n",
              "Date                  \n",
              "1986-03-13    0.097222\n",
              "1986-03-14    0.100694\n",
              "1986-03-17    0.102431\n",
              "1986-03-18    0.099826\n",
              "1986-03-19    0.098090\n",
              "...                ...\n",
              "2023-06-26  328.600006\n",
              "2023-06-27  334.570007\n",
              "2023-06-28  335.850006\n",
              "2023-06-29  335.049988\n",
              "2023-06-30  340.540009\n",
              "\n",
              "[9401 rows x 1 columns]"
            ],
            "text/html": [
              "\n",
              "  <div id=\"df-ef6492cd-3f72-4d6c-88b7-08ae4dd6f26a\">\n",
              "    <div class=\"colab-df-container\">\n",
              "      <div>\n",
              "<style scoped>\n",
              "    .dataframe tbody tr th:only-of-type {\n",
              "        vertical-align: middle;\n",
              "    }\n",
              "\n",
              "    .dataframe tbody tr th {\n",
              "        vertical-align: top;\n",
              "    }\n",
              "\n",
              "    .dataframe thead th {\n",
              "        text-align: right;\n",
              "    }\n",
              "</style>\n",
              "<table border=\"1\" class=\"dataframe\">\n",
              "  <thead>\n",
              "    <tr style=\"text-align: right;\">\n",
              "      <th></th>\n",
              "      <th>Close</th>\n",
              "    </tr>\n",
              "    <tr>\n",
              "      <th>Date</th>\n",
              "      <th></th>\n",
              "    </tr>\n",
              "  </thead>\n",
              "  <tbody>\n",
              "    <tr>\n",
              "      <th>1986-03-13</th>\n",
              "      <td>0.097222</td>\n",
              "    </tr>\n",
              "    <tr>\n",
              "      <th>1986-03-14</th>\n",
              "      <td>0.100694</td>\n",
              "    </tr>\n",
              "    <tr>\n",
              "      <th>1986-03-17</th>\n",
              "      <td>0.102431</td>\n",
              "    </tr>\n",
              "    <tr>\n",
              "      <th>1986-03-18</th>\n",
              "      <td>0.099826</td>\n",
              "    </tr>\n",
              "    <tr>\n",
              "      <th>1986-03-19</th>\n",
              "      <td>0.098090</td>\n",
              "    </tr>\n",
              "    <tr>\n",
              "      <th>...</th>\n",
              "      <td>...</td>\n",
              "    </tr>\n",
              "    <tr>\n",
              "      <th>2023-06-26</th>\n",
              "      <td>328.600006</td>\n",
              "    </tr>\n",
              "    <tr>\n",
              "      <th>2023-06-27</th>\n",
              "      <td>334.570007</td>\n",
              "    </tr>\n",
              "    <tr>\n",
              "      <th>2023-06-28</th>\n",
              "      <td>335.850006</td>\n",
              "    </tr>\n",
              "    <tr>\n",
              "      <th>2023-06-29</th>\n",
              "      <td>335.049988</td>\n",
              "    </tr>\n",
              "    <tr>\n",
              "      <th>2023-06-30</th>\n",
              "      <td>340.540009</td>\n",
              "    </tr>\n",
              "  </tbody>\n",
              "</table>\n",
              "<p>9401 rows × 1 columns</p>\n",
              "</div>\n",
              "      <button class=\"colab-df-convert\" onclick=\"convertToInteractive('df-ef6492cd-3f72-4d6c-88b7-08ae4dd6f26a')\"\n",
              "              title=\"Convert this dataframe to an interactive table.\"\n",
              "              style=\"display:none;\">\n",
              "        \n",
              "  <svg xmlns=\"http://www.w3.org/2000/svg\" height=\"24px\"viewBox=\"0 0 24 24\"\n",
              "       width=\"24px\">\n",
              "    <path d=\"M0 0h24v24H0V0z\" fill=\"none\"/>\n",
              "    <path d=\"M18.56 5.44l.94 2.06.94-2.06 2.06-.94-2.06-.94-.94-2.06-.94 2.06-2.06.94zm-11 1L8.5 8.5l.94-2.06 2.06-.94-2.06-.94L8.5 2.5l-.94 2.06-2.06.94zm10 10l.94 2.06.94-2.06 2.06-.94-2.06-.94-.94-2.06-.94 2.06-2.06.94z\"/><path d=\"M17.41 7.96l-1.37-1.37c-.4-.4-.92-.59-1.43-.59-.52 0-1.04.2-1.43.59L10.3 9.45l-7.72 7.72c-.78.78-.78 2.05 0 2.83L4 21.41c.39.39.9.59 1.41.59.51 0 1.02-.2 1.41-.59l7.78-7.78 2.81-2.81c.8-.78.8-2.07 0-2.86zM5.41 20L4 18.59l7.72-7.72 1.47 1.35L5.41 20z\"/>\n",
              "  </svg>\n",
              "      </button>\n",
              "      \n",
              "  <style>\n",
              "    .colab-df-container {\n",
              "      display:flex;\n",
              "      flex-wrap:wrap;\n",
              "      gap: 12px;\n",
              "    }\n",
              "\n",
              "    .colab-df-convert {\n",
              "      background-color: #E8F0FE;\n",
              "      border: none;\n",
              "      border-radius: 50%;\n",
              "      cursor: pointer;\n",
              "      display: none;\n",
              "      fill: #1967D2;\n",
              "      height: 32px;\n",
              "      padding: 0 0 0 0;\n",
              "      width: 32px;\n",
              "    }\n",
              "\n",
              "    .colab-df-convert:hover {\n",
              "      background-color: #E2EBFA;\n",
              "      box-shadow: 0px 1px 2px rgba(60, 64, 67, 0.3), 0px 1px 3px 1px rgba(60, 64, 67, 0.15);\n",
              "      fill: #174EA6;\n",
              "    }\n",
              "\n",
              "    [theme=dark] .colab-df-convert {\n",
              "      background-color: #3B4455;\n",
              "      fill: #D2E3FC;\n",
              "    }\n",
              "\n",
              "    [theme=dark] .colab-df-convert:hover {\n",
              "      background-color: #434B5C;\n",
              "      box-shadow: 0px 1px 3px 1px rgba(0, 0, 0, 0.15);\n",
              "      filter: drop-shadow(0px 1px 2px rgba(0, 0, 0, 0.3));\n",
              "      fill: #FFFFFF;\n",
              "    }\n",
              "  </style>\n",
              "\n",
              "      <script>\n",
              "        const buttonEl =\n",
              "          document.querySelector('#df-ef6492cd-3f72-4d6c-88b7-08ae4dd6f26a button.colab-df-convert');\n",
              "        buttonEl.style.display =\n",
              "          google.colab.kernel.accessAllowed ? 'block' : 'none';\n",
              "\n",
              "        async function convertToInteractive(key) {\n",
              "          const element = document.querySelector('#df-ef6492cd-3f72-4d6c-88b7-08ae4dd6f26a');\n",
              "          const dataTable =\n",
              "            await google.colab.kernel.invokeFunction('convertToInteractive',\n",
              "                                                     [key], {});\n",
              "          if (!dataTable) return;\n",
              "\n",
              "          const docLinkHtml = 'Like what you see? Visit the ' +\n",
              "            '<a target=\"_blank\" href=https://colab.research.google.com/notebooks/data_table.ipynb>data table notebook</a>'\n",
              "            + ' to learn more about interactive tables.';\n",
              "          element.innerHTML = '';\n",
              "          dataTable['output_type'] = 'display_data';\n",
              "          await google.colab.output.renderOutput(dataTable, element);\n",
              "          const docLink = document.createElement('div');\n",
              "          docLink.innerHTML = docLinkHtml;\n",
              "          element.appendChild(docLink);\n",
              "        }\n",
              "      </script>\n",
              "    </div>\n",
              "  </div>\n",
              "  "
            ]
          },
          "metadata": {},
          "execution_count": 41
        }
      ]
    },
    {
      "cell_type": "markdown",
      "source": [
        "# EDA"
      ],
      "metadata": {
        "id": "mAjX7Bhml2mg"
      }
    },
    {
      "cell_type": "markdown",
      "source": [
        "**Lets check upon the growth of the stocks with respect to year**"
      ],
      "metadata": {
        "id": "Rd-2JVswmA3e"
      }
    },
    {
      "cell_type": "code",
      "source": [
        "plt.plot(df.index, df['Close'])"
      ],
      "metadata": {
        "colab": {
          "base_uri": "https://localhost:8080/",
          "height": 447
        },
        "id": "7srWbhUqlodT",
        "outputId": "c37b0c7b-d09f-4e5f-b9d5-ed1074105af3"
      },
      "execution_count": null,
      "outputs": [
        {
          "output_type": "execute_result",
          "data": {
            "text/plain": [
              "[<matplotlib.lines.Line2D at 0x7fef9495cbe0>]"
            ]
          },
          "metadata": {},
          "execution_count": 32
        },
        {
          "output_type": "display_data",
          "data": {
            "text/plain": [
              "<Figure size 640x480 with 1 Axes>"
            ],
            "image/png": "[encoded data removed]"
          },
          "metadata": {}
        }
      ]
    },
    {
      "cell_type": "markdown",
      "source": [
        "We can infer that from 1986 to 2023 the stock grows well after it hits 2015 or 2016 then there is a minor drop in 2022"
      ],
      "metadata": {
        "id": "rNgBAoHzmK67"
      }
    },
    {
      "cell_type": "code",
      "source": [
        "display(df.iloc[3])   #initial date for the windowed_df\n",
        "print()\n",
        "display(df.iloc[-1])  #Last date for the windowed_df"
      ],
      "metadata": {
        "colab": {
          "base_uri": "https://localhost:8080/",
          "height": 104
        },
        "id": "Zy5coIo-pIEp",
        "outputId": "4b393933-2e47-4a57-95f7-c9b79decf8b1"
      },
      "execution_count": null,
      "outputs": [
        {
          "output_type": "display_data",
          "data": {
            "text/plain": [
              "Close    0.099826\n",
              "Name: 1986-03-18 00:00:00, dtype: float64"
            ]
          },
          "metadata": {}
        },
        {
          "output_type": "stream",
          "name": "stdout",
          "text": [
            "\n"
          ]
        },
        {
          "output_type": "display_data",
          "data": {
            "text/plain": [
              "Close    340.540009\n",
              "Name: 2023-06-30 00:00:00, dtype: float64"
            ]
          },
          "metadata": {}
        }
      ]
    },
    {
      "cell_type": "code",
      "source": [
        "#Convert into supervised learning problem\n",
        "\n",
        "def df_to_windowed_df(dataframe, first_date_str, last_date_str, n=3):\n",
        "  first_date = dateformating(first_date_str)\n",
        "  last_date  = dateformating(last_date_str)\n",
        "\n",
        "  target_date = first_date\n",
        "\n",
        "  dates = []\n",
        "  X, Y = [], []\n",
        "\n",
        "  last_time = False\n",
        "  while True:\n",
        "    df_subset = dataframe.loc[:target_date].tail(n+1)\n",
        "\n",
        "    if len(df_subset) != n+1:\n",
        "      print(f'Error: Window of size {n} is too large for date {target_date}')\n",
        "      return\n",
        "\n",
        "    values = df_subset['Close'].to_numpy()\n",
        "    x, y = values[:-1], values[-1]\n",
        "\n",
        "    dates.append(target_date)\n",
        "    X.append(x)\n",
        "    Y.append(y)\n",
        "\n",
        "    next_week = dataframe.loc[target_date:target_date+datetime.timedelta(days=7)]\n",
        "    next_datetime_str = str(next_week.head(2).tail(1).index.values[0])\n",
        "    next_date_str = next_datetime_str.split('T')[0]\n",
        "    year_month_day = next_date_str.split('-')\n",
        "    year, month, day = year_month_day\n",
        "    next_date = datetime.datetime(day=int(day), month=int(month), year=int(year))\n",
        "\n",
        "    if last_time:\n",
        "      break\n",
        "\n",
        "    target_date = next_date\n",
        "\n",
        "    if target_date == last_date:\n",
        "      last_time = True\n",
        "\n",
        "  ret_df = pd.DataFrame({})\n",
        "  ret_df['Target Date'] = dates\n",
        "\n",
        "  X = np.array(X)\n",
        "  for i in range(0, n):\n",
        "    X[:, i]\n",
        "    ret_df[f'Target-{n-i}'] = X[:, i]\n",
        "\n",
        "  ret_df['Target'] = Y\n",
        "\n",
        "  return ret_df\n",
        "\n",
        "# Start day second time around: '2021-03-25'\n",
        "windowed_df = df_to_windowed_df(df,\n",
        "                                '2021-03-25',\n",
        "                                '2022-03-23',\n",
        "                                n=3)\n",
        "windowed_df\n",
        "\n",
        "#windowed_df consist of date and the close as (Target-3, Target-2, Target-1, Target)\n",
        "\n",
        "#date with the 3 previous value (Target-3, Target-2, Target-1,) and then the actual closing price (Target)\n",
        "\n",
        "#Will be considering the Target-3, Target-2, Target-1 as inputs and the target as output"
      ],
      "metadata": {
        "colab": {
          "base_uri": "https://localhost:8080/",
          "height": 424
        },
        "id": "uLUTxa83mI_z",
        "outputId": "1bcf8821-722a-4d36-92f7-9f82f2e4b27e"
      },
      "execution_count": null,
      "outputs": [
        {
          "output_type": "execute_result",
          "data": {
            "text/plain": [
              "    Target Date    Target-3    Target-2    Target-1      Target\n",
              "0    2021-03-25  235.990005  237.580002  235.460007  232.339996\n",
              "1    2021-03-26  237.580002  235.460007  232.339996  236.479996\n",
              "2    2021-03-29  235.460007  232.339996  236.479996  235.240005\n",
              "3    2021-03-30  232.339996  236.479996  235.240005  231.850006\n",
              "4    2021-03-31  236.479996  235.240005  231.850006  235.770004\n",
              "..          ...         ...         ...         ...         ...\n",
              "247  2022-03-17  276.440002  287.149994  294.390015  295.220001\n",
              "248  2022-03-18  287.149994  294.390015  295.220001  300.429993\n",
              "249  2022-03-21  294.390015  295.220001  300.429993  299.160004\n",
              "250  2022-03-22  295.220001  300.429993  299.160004  304.059998\n",
              "251  2022-03-23  300.429993  299.160004  304.059998  299.489990\n",
              "\n",
              "[252 rows x 5 columns]"
            ],
            "text/html": [
              "\n",
              "  <div id=\"df-2f6e32b5-e472-4bc6-bd06-afd8d6b1d950\">\n",
              "    <div class=\"colab-df-container\">\n",
              "      <div>\n",
              "<style scoped>\n",
              "    .dataframe tbody tr th:only-of-type {\n",
              "        vertical-align: middle;\n",
              "    }\n",
              "\n",
              "    .dataframe tbody tr th {\n",
              "        vertical-align: top;\n",
              "    }\n",
              "\n",
              "    .dataframe thead th {\n",
              "        text-align: right;\n",
              "    }\n",
              "</style>\n",
              "<table border=\"1\" class=\"dataframe\">\n",
              "  <thead>\n",
              "    <tr style=\"text-align: right;\">\n",
              "      <th></th>\n",
              "      <th>Target Date</th>\n",
              "      <th>Target-3</th>\n",
              "      <th>Target-2</th>\n",
              "      <th>Target-1</th>\n",
              "      <th>Target</th>\n",
              "    </tr>\n",
              "  </thead>\n",
              "  <tbody>\n",
              "    <tr>\n",
              "      <th>0</th>\n",
              "      <td>2021-03-25</td>\n",
              "      <td>235.990005</td>\n",
              "      <td>237.580002</td>\n",
              "      <td>235.460007</td>\n",
              "      <td>232.339996</td>\n",
              "    </tr>\n",
              "    <tr>\n",
              "      <th>1</th>\n",
              "      <td>2021-03-26</td>\n",
              "      <td>237.580002</td>\n",
              "      <td>235.460007</td>\n",
              "      <td>232.339996</td>\n",
              "      <td>236.479996</td>\n",
              "    </tr>\n",
              "    <tr>\n",
              "      <th>2</th>\n",
              "      <td>2021-03-29</td>\n",
              "      <td>235.460007</td>\n",
              "      <td>232.339996</td>\n",
              "      <td>236.479996</td>\n",
              "      <td>235.240005</td>\n",
              "    </tr>\n",
              "    <tr>\n",
              "      <th>3</th>\n",
              "      <td>2021-03-30</td>\n",
              "      <td>232.339996</td>\n",
              "      <td>236.479996</td>\n",
              "      <td>235.240005</td>\n",
              "      <td>231.850006</td>\n",
              "    </tr>\n",
              "    <tr>\n",
              "      <th>4</th>\n",
              "      <td>2021-03-31</td>\n",
              "      <td>236.479996</td>\n",
              "      <td>235.240005</td>\n",
              "      <td>231.850006</td>\n",
              "      <td>235.770004</td>\n",
              "    </tr>\n",
              "    <tr>\n",
              "      <th>...</th>\n",
              "      <td>...</td>\n",
              "      <td>...</td>\n",
              "      <td>...</td>\n",
              "      <td>...</td>\n",
              "      <td>...</td>\n",
              "    </tr>\n",
              "    <tr>\n",
              "      <th>247</th>\n",
              "      <td>2022-03-17</td>\n",
              "      <td>276.440002</td>\n",
              "      <td>287.149994</td>\n",
              "      <td>294.390015</td>\n",
              "      <td>295.220001</td>\n",
              "    </tr>\n",
              "    <tr>\n",
              "      <th>248</th>\n",
              "      <td>2022-03-18</td>\n",
              "      <td>287.149994</td>\n",
              "      <td>294.390015</td>\n",
              "      <td>295.220001</td>\n",
              "      <td>300.429993</td>\n",
              "    </tr>\n",
              "    <tr>\n",
              "      <th>249</th>\n",
              "      <td>2022-03-21</td>\n",
              "      <td>294.390015</td>\n",
              "      <td>295.220001</td>\n",
              "      <td>300.429993</td>\n",
              "      <td>299.160004</td>\n",
              "    </tr>\n",
              "    <tr>\n",
              "      <th>250</th>\n",
              "      <td>2022-03-22</td>\n",
              "      <td>295.220001</td>\n",
              "      <td>300.429993</td>\n",
              "      <td>299.160004</td>\n",
              "      <td>304.059998</td>\n",
              "    </tr>\n",
              "    <tr>\n",
              "      <th>251</th>\n",
              "      <td>2022-03-23</td>\n",
              "      <td>300.429993</td>\n",
              "      <td>299.160004</td>\n",
              "      <td>304.059998</td>\n",
              "      <td>299.489990</td>\n",
              "    </tr>\n",
              "  </tbody>\n",
              "</table>\n",
              "<p>252 rows × 5 columns</p>\n",
              "</div>\n",
              "      <button class=\"colab-df-convert\" onclick=\"convertToInteractive('df-2f6e32b5-e472-4bc6-bd06-afd8d6b1d950')\"\n",
              "              title=\"Convert this dataframe to an interactive table.\"\n",
              "              style=\"display:none;\">\n",
              "        \n",
              "  <svg xmlns=\"http://www.w3.org/2000/svg\" height=\"24px\"viewBox=\"0 0 24 24\"\n",
              "       width=\"24px\">\n",
              "    <path d=\"M0 0h24v24H0V0z\" fill=\"none\"/>\n",
              "    <path d=\"M18.56 5.44l.94 2.06.94-2.06 2.06-.94-2.06-.94-.94-2.06-.94 2.06-2.06.94zm-11 1L8.5 8.5l.94-2.06 2.06-.94-2.06-.94L8.5 2.5l-.94 2.06-2.06.94zm10 10l.94 2.06.94-2.06 2.06-.94-2.06-.94-.94-2.06-.94 2.06-2.06.94z\"/><path d=\"M17.41 7.96l-1.37-1.37c-.4-.4-.92-.59-1.43-.59-.52 0-1.04.2-1.43.59L10.3 9.45l-7.72 7.72c-.78.78-.78 2.05 0 2.83L4 21.41c.39.39.9.59 1.41.59.51 0 1.02-.2 1.41-.59l7.78-7.78 2.81-2.81c.8-.78.8-2.07 0-2.86zM5.41 20L4 18.59l7.72-7.72 1.47 1.35L5.41 20z\"/>\n",
              "  </svg>\n",
              "      </button>\n",
              "      \n",
              "  <style>\n",
              "    .colab-df-container {\n",
              "      display:flex;\n",
              "      flex-wrap:wrap;\n",
              "      gap: 12px;\n",
              "    }\n",
              "\n",
              "    .colab-df-convert {\n",
              "      background-color: #E8F0FE;\n",
              "      border: none;\n",
              "      border-radius: 50%;\n",
              "      cursor: pointer;\n",
              "      display: none;\n",
              "      fill: #1967D2;\n",
              "      height: 32px;\n",
              "      padding: 0 0 0 0;\n",
              "      width: 32px;\n",
              "    }\n",
              "\n",
              "    .colab-df-convert:hover {\n",
              "      background-color: #E2EBFA;\n",
              "      box-shadow: 0px 1px 2px rgba(60, 64, 67, 0.3), 0px 1px 3px 1px rgba(60, 64, 67, 0.15);\n",
              "      fill: #174EA6;\n",
              "    }\n",
              "\n",
              "    [theme=dark] .colab-df-convert {\n",
              "      background-color: #3B4455;\n",
              "      fill: #D2E3FC;\n",
              "    }\n",
              "\n",
              "    [theme=dark] .colab-df-convert:hover {\n",
              "      background-color: #434B5C;\n",
              "      box-shadow: 0px 1px 3px 1px rgba(0, 0, 0, 0.15);\n",
              "      filter: drop-shadow(0px 1px 2px rgba(0, 0, 0, 0.3));\n",
              "      fill: #FFFFFF;\n",
              "    }\n",
              "  </style>\n",
              "\n",
              "      <script>\n",
              "        const buttonEl =\n",
              "          document.querySelector('#df-2f6e32b5-e472-4bc6-bd06-afd8d6b1d950 button.colab-df-convert');\n",
              "        buttonEl.style.display =\n",
              "          google.colab.kernel.accessAllowed ? 'block' : 'none';\n",
              "\n",
              "        async function convertToInteractive(key) {\n",
              "          const element = document.querySelector('#df-2f6e32b5-e472-4bc6-bd06-afd8d6b1d950');\n",
              "          const dataTable =\n",
              "            await google.colab.kernel.invokeFunction('convertToInteractive',\n",
              "                                                     [key], {});\n",
              "          if (!dataTable) return;\n",
              "\n",
              "          const docLinkHtml = 'Like what you see? Visit the ' +\n",
              "            '<a target=\"_blank\" href=https://colab.research.google.com/notebooks/data_table.ipynb>data table notebook</a>'\n",
              "            + ' to learn more about interactive tables.';\n",
              "          element.innerHTML = '';\n",
              "          dataTable['output_type'] = 'display_data';\n",
              "          await google.colab.output.renderOutput(dataTable, element);\n",
              "          const docLink = document.createElement('div');\n",
              "          docLink.innerHTML = docLinkHtml;\n",
              "          element.appendChild(docLink);\n",
              "        }\n",
              "      </script>\n",
              "    </div>\n",
              "  </div>\n",
              "  "
            ]
          },
          "metadata": {},
          "execution_count": 53
        }
      ]
    },
    {
      "cell_type": "code",
      "source": [
        "#Now we need to conver this into numpy array to feed into tensorflow model\n",
        "\n",
        "#date, X: input (3Demensional) and y: output\n",
        "\n",
        "def windowed_df_to_date_X_y(windowed_dataframe):\n",
        "  df_as_np = windowed_dataframe.to_numpy()\n",
        "\n",
        "  dates = df_as_np[:, 0]\n",
        "\n",
        "  middle_matrix = df_as_np[:, 1:-1]\n",
        "  X = middle_matrix.reshape((len(dates), middle_matrix.shape[1], 1))\n",
        "\n",
        "  Y = df_as_np[:, -1]\n",
        "\n",
        "  return dates, X.astype(np.float32), Y.astype(np.float32)\n",
        "\n",
        "dates, X, y = windowed_df_to_date_X_y(windowed_df)\n",
        "\n",
        "dates.shape, X.shape, y.shape\n"
      ],
      "metadata": {
        "colab": {
          "base_uri": "https://localhost:8080/"
        },
        "id": "jJWqfWPEn1hv",
        "outputId": "16498618-f362-4881-eba8-60ee4328c0d0"
      },
      "execution_count": null,
      "outputs": [
        {
          "output_type": "execute_result",
          "data": {
            "text/plain": [
              "((252,), (252, 3, 1), (252,))"
            ]
          },
          "metadata": {},
          "execution_count": 54
        }
      ]
    },
    {
      "cell_type": "code",
      "source": [
        "#splitting the data into Train, Test and validation\n",
        "\n",
        "q_80 = int(len(dates) * .8)\n",
        "q_90 = int(len(dates) * .9)\n",
        "\n",
        "dates_train, X_train, y_train = dates[:q_80], X[:q_80], y[:q_80]\n",
        "\n",
        "dates_val, X_val, y_val = dates[q_80:q_90], X[q_80:q_90], y[q_80:q_90]\n",
        "dates_test, X_test, y_test = dates[q_90:], X[q_90:], y[q_90:]\n",
        "\n",
        "plt.plot(dates_train, y_train)\n",
        "plt.plot(dates_val, y_val)\n",
        "plt.plot(dates_test, y_test)\n",
        "\n",
        "plt.legend(['Train', 'Validation', 'Test'])"
      ],
      "metadata": {
        "colab": {
          "base_uri": "https://localhost:8080/",
          "height": 447
        },
        "id": "ho5wr3P4rrsJ",
        "outputId": "ca185939-a88d-4d16-bd4d-8476f4ecf603"
      },
      "execution_count": null,
      "outputs": [
        {
          "output_type": "execute_result",
          "data": {
            "text/plain": [
              "<matplotlib.legend.Legend at 0x7fef36c86770>"
            ]
          },
          "metadata": {},
          "execution_count": 55
        },
        {
          "output_type": "display_data",
          "data": {
            "text/plain": [
              "<Figure size 640x480 with 1 Axes>"
            ],
            "image/png": "[encoded data removed]"
          },
          "metadata": {}
        }
      ]
    },
    {
      "cell_type": "code",
      "source": [
        "from tensorflow.keras.models import Sequential\n",
        "from tensorflow.keras.optimizers import Adam\n",
        "from tensorflow.keras import layers\n",
        "\n",
        "model = Sequential([layers.Input((3, 1)),\n",
        "                    layers.LSTM(64),\n",
        "                    layers.Dense(32, activation='relu'),\n",
        "                    layers.Dense(32, activation='relu'),\n",
        "                    layers.Dense(1)])\n",
        "\n",
        "model.compile(loss='mse',\n",
        "              optimizer=Adam(learning_rate=0.001),\n",
        "              metrics=['mean_absolute_error'])\n",
        "\n",
        "model.fit(X_train, y_train, validation_data=(X_val, y_val), epochs=100)"
      ],
      "metadata": {
        "colab": {
          "base_uri": "https://localhost:8080/"
        },
        "id": "o2CGVVEHsO1k",
        "outputId": "b9a7007e-bd31-44a4-889c-69fd3817178e"
      },
      "execution_count": null,
      "outputs": [
        {
          "output_type": "stream",
          "name": "stdout",
          "text": [
            "Epoch 1/100\n",
            "7/7 [==============================] - 4s 101ms/step - loss: 84415.2031 - mean_absolute_error: 288.7992 - val_loss: 92014.2266 - val_mean_absolute_error: 303.2511\n",
            "Epoch 2/100\n",
            "7/7 [==============================] - 0s 14ms/step - loss: 84045.0938 - mean_absolute_error: 288.1556 - val_loss: 91590.7266 - val_mean_absolute_error: 302.5521\n",
            "Epoch 3/100\n",
            "7/7 [==============================] - 0s 10ms/step - loss: 83606.8594 - mean_absolute_error: 287.3964 - val_loss: 91067.1719 - val_mean_absolute_error: 301.6856\n",
            "Epoch 4/100\n",
            "7/7 [==============================] - 0s 10ms/step - loss: 83054.4609 - mean_absolute_error: 286.4330 - val_loss: 90370.2812 - val_mean_absolute_error: 300.5284\n",
            "Epoch 5/100\n",
            "7/7 [==============================] - 0s 13ms/step - loss: 82312.7812 - mean_absolute_error: 285.1363 - val_loss: 89461.3203 - val_mean_absolute_error: 299.0123\n",
            "Epoch 6/100\n",
            "7/7 [==============================] - 0s 13ms/step - loss: 81389.5625 - mean_absolute_error: 283.5095 - val_loss: 88378.7734 - val_mean_absolute_error: 297.1965\n",
            "Epoch 7/100\n",
            "7/7 [==============================] - 0s 13ms/step - loss: 80166.5156 - mean_absolute_error: 281.3437 - val_loss: 86640.4609 - val_mean_absolute_error: 294.2574\n",
            "Epoch 8/100\n",
            "7/7 [==============================] - 0s 9ms/step - loss: 78357.2266 - mean_absolute_error: 278.0993 - val_loss: 84589.0469 - val_mean_absolute_error: 290.7507\n",
            "Epoch 9/100\n",
            "7/7 [==============================] - 0s 13ms/step - loss: 76169.9219 - mean_absolute_error: 274.1434 - val_loss: 81670.8828 - val_mean_absolute_error: 285.6884\n",
            "Epoch 10/100\n",
            "7/7 [==============================] - 0s 11ms/step - loss: 73045.3984 - mean_absolute_error: 268.3775 - val_loss: 78042.1797 - val_mean_absolute_error: 279.2655\n",
            "Epoch 11/100\n",
            "7/7 [==============================] - 0s 10ms/step - loss: 69564.8594 - mean_absolute_error: 261.8258 - val_loss: 74008.6016 - val_mean_absolute_error: 271.9476\n",
            "Epoch 12/100\n",
            "7/7 [==============================] - 0s 13ms/step - loss: 65249.6602 - mean_absolute_error: 253.4182 - val_loss: 68491.5000 - val_mean_absolute_error: 261.6071\n",
            "Epoch 13/100\n",
            "7/7 [==============================] - 0s 10ms/step - loss: 59538.4062 - mean_absolute_error: 241.9007 - val_loss: 61917.1953 - val_mean_absolute_error: 248.7250\n",
            "Epoch 14/100\n",
            "7/7 [==============================] - 0s 12ms/step - loss: 53184.1445 - mean_absolute_error: 228.4027 - val_loss: 54724.4453 - val_mean_absolute_error: 233.8188\n",
            "Epoch 15/100\n",
            "7/7 [==============================] - 0s 11ms/step - loss: 46241.8477 - mean_absolute_error: 212.5812 - val_loss: 47077.8594 - val_mean_absolute_error: 216.8521\n",
            "Epoch 16/100\n",
            "7/7 [==============================] - 0s 13ms/step - loss: 39049.9414 - mean_absolute_error: 194.8246 - val_loss: 39063.3398 - val_mean_absolute_error: 197.5104\n",
            "Epoch 17/100\n",
            "7/7 [==============================] - 0s 13ms/step - loss: 31557.8105 - mean_absolute_error: 174.7445 - val_loss: 31013.9355 - val_mean_absolute_error: 175.9569\n",
            "Epoch 18/100\n",
            "7/7 [==============================] - 0s 13ms/step - loss: 24241.1562 - mean_absolute_error: 152.2270 - val_loss: 23231.1621 - val_mean_absolute_error: 152.2437\n",
            "Epoch 19/100\n",
            "7/7 [==============================] - 0s 10ms/step - loss: 17465.9883 - mean_absolute_error: 128.0626 - val_loss: 16161.0674 - val_mean_absolute_error: 126.9148\n",
            "Epoch 20/100\n",
            "7/7 [==============================] - 0s 11ms/step - loss: 11125.8926 - mean_absolute_error: 100.4055 - val_loss: 9474.0742 - val_mean_absolute_error: 97.0603\n",
            "Epoch 21/100\n",
            "7/7 [==============================] - 0s 10ms/step - loss: 6237.9775 - mean_absolute_error: 72.0353 - val_loss: 5141.9951 - val_mean_absolute_error: 71.3375\n",
            "Epoch 22/100\n",
            "7/7 [==============================] - 0s 13ms/step - loss: 3331.8398 - mean_absolute_error: 48.0700 - val_loss: 2463.6223 - val_mean_absolute_error: 49.0982\n",
            "Epoch 23/100\n",
            "7/7 [==============================] - 0s 10ms/step - loss: 1748.9097 - mean_absolute_error: 34.1943 - val_loss: 969.8443 - val_mean_absolute_error: 30.2742\n",
            "Epoch 24/100\n",
            "7/7 [==============================] - 0s 10ms/step - loss: 1127.5911 - mean_absolute_error: 28.4277 - val_loss: 350.8806 - val_mean_absolute_error: 17.2603\n",
            "Epoch 25/100\n",
            "7/7 [==============================] - 0s 13ms/step - loss: 1011.0054 - mean_absolute_error: 26.8706 - val_loss: 164.4259 - val_mean_absolute_error: 10.9707\n",
            "Epoch 26/100\n",
            "7/7 [==============================] - 0s 11ms/step - loss: 1048.4092 - mean_absolute_error: 27.2296 - val_loss: 113.5790 - val_mean_absolute_error: 8.6820\n",
            "Epoch 27/100\n",
            "7/7 [==============================] - 0s 11ms/step - loss: 1056.8859 - mean_absolute_error: 27.4019 - val_loss: 128.4900 - val_mean_absolute_error: 9.3335\n",
            "Epoch 28/100\n",
            "7/7 [==============================] - 0s 12ms/step - loss: 1039.1694 - mean_absolute_error: 27.1786 - val_loss: 164.9737 - val_mean_absolute_error: 10.9946\n",
            "Epoch 29/100\n",
            "7/7 [==============================] - 0s 10ms/step - loss: 1021.1479 - mean_absolute_error: 26.9898 - val_loss: 214.8497 - val_mean_absolute_error: 12.9634\n",
            "Epoch 30/100\n",
            "7/7 [==============================] - 0s 10ms/step - loss: 1013.4671 - mean_absolute_error: 26.8998 - val_loss: 259.2519 - val_mean_absolute_error: 14.4715\n",
            "Epoch 31/100\n",
            "7/7 [==============================] - 0s 10ms/step - loss: 1010.7915 - mean_absolute_error: 26.8515 - val_loss: 303.2213 - val_mean_absolute_error: 15.8195\n",
            "Epoch 32/100\n",
            "7/7 [==============================] - 0s 14ms/step - loss: 1010.9943 - mean_absolute_error: 26.8815 - val_loss: 319.4326 - val_mean_absolute_error: 16.3239\n",
            "Epoch 33/100\n",
            "7/7 [==============================] - 0s 12ms/step - loss: 1012.2769 - mean_absolute_error: 26.9101 - val_loss: 309.6626 - val_mean_absolute_error: 16.0219\n",
            "Epoch 34/100\n",
            "7/7 [==============================] - 0s 14ms/step - loss: 1011.2100 - mean_absolute_error: 26.8854 - val_loss: 299.6661 - val_mean_absolute_error: 15.7080\n",
            "Epoch 35/100\n",
            "7/7 [==============================] - 0s 14ms/step - loss: 1010.7270 - mean_absolute_error: 26.8765 - val_loss: 287.9591 - val_mean_absolute_error: 15.3610\n",
            "Epoch 36/100\n",
            "7/7 [==============================] - 0s 11ms/step - loss: 1009.9811 - mean_absolute_error: 26.8617 - val_loss: 282.2911 - val_mean_absolute_error: 15.1899\n",
            "Epoch 37/100\n",
            "7/7 [==============================] - 0s 14ms/step - loss: 1008.9187 - mean_absolute_error: 26.8501 - val_loss: 264.6682 - val_mean_absolute_error: 14.6453\n",
            "Epoch 38/100\n",
            "7/7 [==============================] - 0s 14ms/step - loss: 1000.8525 - mean_absolute_error: 26.7368 - val_loss: 287.3755 - val_mean_absolute_error: 15.3518\n",
            "Epoch 39/100\n",
            "7/7 [==============================] - 0s 11ms/step - loss: 987.2062 - mean_absolute_error: 26.5702 - val_loss: 306.6666 - val_mean_absolute_error: 15.9928\n",
            "Epoch 40/100\n",
            "7/7 [==============================] - 0s 13ms/step - loss: 948.0848 - mean_absolute_error: 26.0322 - val_loss: 299.9236 - val_mean_absolute_error: 15.7928\n",
            "Epoch 41/100\n",
            "7/7 [==============================] - 0s 10ms/step - loss: 944.3509 - mean_absolute_error: 26.0001 - val_loss: 295.2408 - val_mean_absolute_error: 15.6544\n",
            "Epoch 42/100\n",
            "7/7 [==============================] - 0s 14ms/step - loss: 920.3336 - mean_absolute_error: 25.6269 - val_loss: 335.2794 - val_mean_absolute_error: 16.9011\n",
            "Epoch 43/100\n",
            "7/7 [==============================] - 0s 13ms/step - loss: 912.0400 - mean_absolute_error: 25.5609 - val_loss: 316.8512 - val_mean_absolute_error: 16.4027\n",
            "Epoch 44/100\n",
            "7/7 [==============================] - 0s 10ms/step - loss: 824.7313 - mean_absolute_error: 24.0592 - val_loss: 827.2216 - val_mean_absolute_error: 27.9348\n",
            "Epoch 45/100\n",
            "7/7 [==============================] - 0s 13ms/step - loss: 852.7405 - mean_absolute_error: 24.5177 - val_loss: 352.5269 - val_mean_absolute_error: 17.5090\n",
            "Epoch 46/100\n",
            "7/7 [==============================] - 0s 10ms/step - loss: 767.2333 - mean_absolute_error: 23.2683 - val_loss: 336.3203 - val_mean_absolute_error: 17.1028\n",
            "Epoch 47/100\n",
            "7/7 [==============================] - 0s 11ms/step - loss: 710.1550 - mean_absolute_error: 22.3142 - val_loss: 438.5618 - val_mean_absolute_error: 19.9155\n",
            "Epoch 48/100\n",
            "7/7 [==============================] - 0s 10ms/step - loss: 683.7089 - mean_absolute_error: 21.9700 - val_loss: 148.7076 - val_mean_absolute_error: 10.5928\n",
            "Epoch 49/100\n",
            "7/7 [==============================] - 0s 10ms/step - loss: 594.2169 - mean_absolute_error: 20.5350 - val_loss: 230.9510 - val_mean_absolute_error: 13.8283\n",
            "Epoch 50/100\n",
            "7/7 [==============================] - 0s 20ms/step - loss: 567.2645 - mean_absolute_error: 19.8892 - val_loss: 541.5870 - val_mean_absolute_error: 22.4434\n",
            "Epoch 51/100\n",
            "7/7 [==============================] - 0s 16ms/step - loss: 578.4153 - mean_absolute_error: 20.0122 - val_loss: 128.0158 - val_mean_absolute_error: 9.7505\n",
            "Epoch 52/100\n",
            "7/7 [==============================] - 0s 18ms/step - loss: 523.9445 - mean_absolute_error: 19.1565 - val_loss: 63.0316 - val_mean_absolute_error: 6.3213\n",
            "Epoch 53/100\n",
            "7/7 [==============================] - 0s 17ms/step - loss: 479.9702 - mean_absolute_error: 18.1804 - val_loss: 152.7979 - val_mean_absolute_error: 10.9529\n",
            "Epoch 54/100\n",
            "7/7 [==============================] - 0s 18ms/step - loss: 435.0296 - mean_absolute_error: 17.7278 - val_loss: 250.5196 - val_mean_absolute_error: 14.6840\n",
            "Epoch 55/100\n",
            "7/7 [==============================] - 0s 14ms/step - loss: 396.6595 - mean_absolute_error: 16.6169 - val_loss: 50.3602 - val_mean_absolute_error: 5.6008\n",
            "Epoch 56/100\n",
            "7/7 [==============================] - 0s 13ms/step - loss: 375.8423 - mean_absolute_error: 16.0966 - val_loss: 210.9383 - val_mean_absolute_error: 13.3219\n",
            "Epoch 57/100\n",
            "7/7 [==============================] - 0s 14ms/step - loss: 355.8088 - mean_absolute_error: 16.0683 - val_loss: 151.6518 - val_mean_absolute_error: 10.9641\n",
            "Epoch 58/100\n",
            "7/7 [==============================] - 0s 17ms/step - loss: 283.8142 - mean_absolute_error: 13.9134 - val_loss: 111.5421 - val_mean_absolute_error: 9.1069\n",
            "Epoch 59/100\n",
            "7/7 [==============================] - 0s 21ms/step - loss: 269.7205 - mean_absolute_error: 13.5961 - val_loss: 59.0886 - val_mean_absolute_error: 6.2072\n",
            "Epoch 60/100\n",
            "7/7 [==============================] - 0s 18ms/step - loss: 263.9979 - mean_absolute_error: 13.6429 - val_loss: 86.4965 - val_mean_absolute_error: 7.8160\n",
            "Epoch 61/100\n",
            "7/7 [==============================] - 0s 18ms/step - loss: 205.2329 - mean_absolute_error: 11.7948 - val_loss: 46.3323 - val_mean_absolute_error: 5.5589\n",
            "Epoch 62/100\n",
            "7/7 [==============================] - 0s 15ms/step - loss: 176.9011 - mean_absolute_error: 10.7104 - val_loss: 38.3831 - val_mean_absolute_error: 5.2600\n",
            "Epoch 63/100\n",
            "7/7 [==============================] - 0s 13ms/step - loss: 147.0917 - mean_absolute_error: 9.7236 - val_loss: 31.8677 - val_mean_absolute_error: 4.8436\n",
            "Epoch 64/100\n",
            "7/7 [==============================] - 0s 14ms/step - loss: 147.4171 - mean_absolute_error: 9.7755 - val_loss: 30.6830 - val_mean_absolute_error: 4.8454\n",
            "Epoch 65/100\n",
            "7/7 [==============================] - 0s 17ms/step - loss: 111.3874 - mean_absolute_error: 8.4041 - val_loss: 33.3145 - val_mean_absolute_error: 5.0601\n",
            "Epoch 66/100\n",
            "7/7 [==============================] - 0s 15ms/step - loss: 92.9737 - mean_absolute_error: 7.6811 - val_loss: 50.9547 - val_mean_absolute_error: 6.0058\n",
            "Epoch 67/100\n",
            "7/7 [==============================] - 0s 15ms/step - loss: 80.6202 - mean_absolute_error: 7.1456 - val_loss: 39.8955 - val_mean_absolute_error: 5.4027\n",
            "Epoch 68/100\n",
            "7/7 [==============================] - 0s 16ms/step - loss: 65.2589 - mean_absolute_error: 6.4618 - val_loss: 40.4709 - val_mean_absolute_error: 5.4596\n",
            "Epoch 69/100\n",
            "7/7 [==============================] - 0s 19ms/step - loss: 64.5101 - mean_absolute_error: 6.3994 - val_loss: 31.1577 - val_mean_absolute_error: 4.8259\n",
            "Epoch 70/100\n",
            "7/7 [==============================] - 0s 17ms/step - loss: 47.6842 - mean_absolute_error: 5.3806 - val_loss: 40.9117 - val_mean_absolute_error: 5.0496\n",
            "Epoch 71/100\n",
            "7/7 [==============================] - 0s 14ms/step - loss: 36.1672 - mean_absolute_error: 4.5040 - val_loss: 54.2618 - val_mean_absolute_error: 5.7483\n",
            "Epoch 72/100\n",
            "7/7 [==============================] - 0s 16ms/step - loss: 36.5420 - mean_absolute_error: 4.6765 - val_loss: 35.2291 - val_mean_absolute_error: 4.8697\n",
            "Epoch 73/100\n",
            "7/7 [==============================] - 0s 14ms/step - loss: 31.4454 - mean_absolute_error: 4.3453 - val_loss: 31.1716 - val_mean_absolute_error: 4.7900\n",
            "Epoch 74/100\n",
            "7/7 [==============================] - 0s 14ms/step - loss: 31.7695 - mean_absolute_error: 4.4241 - val_loss: 37.6546 - val_mean_absolute_error: 4.9117\n",
            "Epoch 75/100\n",
            "7/7 [==============================] - 0s 15ms/step - loss: 25.0656 - mean_absolute_error: 3.9202 - val_loss: 32.1724 - val_mean_absolute_error: 4.8171\n",
            "Epoch 76/100\n",
            "7/7 [==============================] - 0s 18ms/step - loss: 26.1804 - mean_absolute_error: 4.0852 - val_loss: 33.2262 - val_mean_absolute_error: 4.8332\n",
            "Epoch 77/100\n",
            "7/7 [==============================] - 0s 17ms/step - loss: 27.9624 - mean_absolute_error: 4.2010 - val_loss: 51.8010 - val_mean_absolute_error: 5.6820\n",
            "Epoch 78/100\n",
            "7/7 [==============================] - 0s 19ms/step - loss: 23.5073 - mean_absolute_error: 3.8470 - val_loss: 41.9820 - val_mean_absolute_error: 5.1393\n",
            "Epoch 79/100\n",
            "7/7 [==============================] - 0s 14ms/step - loss: 24.9892 - mean_absolute_error: 3.9912 - val_loss: 41.7477 - val_mean_absolute_error: 5.1261\n",
            "Epoch 80/100\n",
            "7/7 [==============================] - 0s 17ms/step - loss: 22.4482 - mean_absolute_error: 3.7762 - val_loss: 33.5832 - val_mean_absolute_error: 4.8284\n",
            "Epoch 81/100\n",
            "7/7 [==============================] - 0s 13ms/step - loss: 23.1611 - mean_absolute_error: 3.8062 - val_loss: 48.2360 - val_mean_absolute_error: 5.5272\n",
            "Epoch 82/100\n",
            "7/7 [==============================] - 0s 14ms/step - loss: 19.8862 - mean_absolute_error: 3.5584 - val_loss: 43.6330 - val_mean_absolute_error: 5.2579\n",
            "Epoch 83/100\n",
            "7/7 [==============================] - 0s 14ms/step - loss: 20.4798 - mean_absolute_error: 3.6065 - val_loss: 37.0192 - val_mean_absolute_error: 4.8831\n",
            "Epoch 84/100\n",
            "7/7 [==============================] - 0s 16ms/step - loss: 19.7120 - mean_absolute_error: 3.5330 - val_loss: 44.8477 - val_mean_absolute_error: 5.3309\n",
            "Epoch 85/100\n",
            "7/7 [==============================] - 0s 18ms/step - loss: 24.4268 - mean_absolute_error: 3.8870 - val_loss: 73.6744 - val_mean_absolute_error: 6.8748\n",
            "Epoch 86/100\n",
            "7/7 [==============================] - 0s 16ms/step - loss: 24.2087 - mean_absolute_error: 3.9009 - val_loss: 34.4662 - val_mean_absolute_error: 4.8307\n",
            "Epoch 87/100\n",
            "7/7 [==============================] - 0s 18ms/step - loss: 28.4087 - mean_absolute_error: 4.2343 - val_loss: 32.6141 - val_mean_absolute_error: 4.7854\n",
            "Epoch 88/100\n",
            "7/7 [==============================] - 0s 15ms/step - loss: 21.5288 - mean_absolute_error: 3.7787 - val_loss: 39.3479 - val_mean_absolute_error: 4.9901\n",
            "Epoch 89/100\n",
            "7/7 [==============================] - 0s 15ms/step - loss: 18.8837 - mean_absolute_error: 3.4765 - val_loss: 35.6975 - val_mean_absolute_error: 4.8427\n",
            "Epoch 90/100\n",
            "7/7 [==============================] - 0s 11ms/step - loss: 23.1165 - mean_absolute_error: 3.8739 - val_loss: 79.5543 - val_mean_absolute_error: 7.2367\n",
            "Epoch 91/100\n",
            "7/7 [==============================] - 0s 9ms/step - loss: 28.0097 - mean_absolute_error: 4.2498 - val_loss: 115.7927 - val_mean_absolute_error: 9.2106\n",
            "Epoch 92/100\n",
            "7/7 [==============================] - 0s 11ms/step - loss: 34.9607 - mean_absolute_error: 4.7866 - val_loss: 57.8388 - val_mean_absolute_error: 5.9864\n",
            "Epoch 93/100\n",
            "7/7 [==============================] - 0s 10ms/step - loss: 23.6943 - mean_absolute_error: 3.9728 - val_loss: 33.3800 - val_mean_absolute_error: 4.8037\n",
            "Epoch 94/100\n",
            "7/7 [==============================] - 0s 10ms/step - loss: 33.0379 - mean_absolute_error: 4.6942 - val_loss: 33.6984 - val_mean_absolute_error: 4.8880\n",
            "Epoch 95/100\n",
            "7/7 [==============================] - 0s 12ms/step - loss: 23.4829 - mean_absolute_error: 4.0113 - val_loss: 33.1557 - val_mean_absolute_error: 4.7945\n",
            "Epoch 96/100\n",
            "7/7 [==============================] - 0s 10ms/step - loss: 19.4028 - mean_absolute_error: 3.4845 - val_loss: 36.8097 - val_mean_absolute_error: 4.8802\n",
            "Epoch 97/100\n",
            "7/7 [==============================] - 0s 10ms/step - loss: 17.2240 - mean_absolute_error: 3.3006 - val_loss: 34.0699 - val_mean_absolute_error: 4.8821\n",
            "Epoch 98/100\n",
            "7/7 [==============================] - 0s 10ms/step - loss: 21.9953 - mean_absolute_error: 3.7148 - val_loss: 32.9744 - val_mean_absolute_error: 4.7819\n",
            "Epoch 99/100\n",
            "7/7 [==============================] - 0s 10ms/step - loss: 19.5426 - mean_absolute_error: 3.5017 - val_loss: 41.3509 - val_mean_absolute_error: 5.0975\n",
            "Epoch 100/100\n",
            "7/7 [==============================] - 0s 11ms/step - loss: 24.1681 - mean_absolute_error: 3.8532 - val_loss: 84.6299 - val_mean_absolute_error: 7.5256\n"
          ]
        },
        {
          "output_type": "execute_result",
          "data": {
            "text/plain": [
              "<keras.callbacks.History at 0x7fef92427bb0>"
            ]
          },
          "metadata": {},
          "execution_count": 56
        }
      ]
    },
    {
      "cell_type": "code",
      "source": [
        "train_predictions = model.predict(X_train).flatten()\n",
        "\n",
        "plt.plot(dates_train, train_predictions)\n",
        "plt.plot(dates_train, y_train)\n",
        "plt.legend(['Training Predictions', 'Training Observations'])"
      ],
      "metadata": {
        "colab": {
          "base_uri": "https://localhost:8080/",
          "height": 465
        },
        "id": "Xy4hR33atH1g",
        "outputId": "52c4d116-1bcc-4026-cd75-b3a94403916d"
      },
      "execution_count": null,
      "outputs": [
        {
          "output_type": "stream",
          "name": "stdout",
          "text": [
            "7/7 [==============================] - 1s 4ms/step\n"
          ]
        },
        {
          "output_type": "execute_result",
          "data": {
            "text/plain": [
              "<matplotlib.legend.Legend at 0x7fef35983550>"
            ]
          },
          "metadata": {},
          "execution_count": 57
        },
        {
          "output_type": "display_data",
          "data": {
            "text/plain": [
              "<Figure size 640x480 with 1 Axes>"
            ],
            "image/png": "[encoded data removed]"
          },
          "metadata": {}
        }
      ]
    },
    {
      "cell_type": "code",
      "source": [
        "val_predictions = model.predict(X_val).flatten()\n",
        "\n",
        "plt.plot(dates_val, val_predictions)\n",
        "plt.plot(dates_val, y_val)\n",
        "plt.legend(['Validation Predictions', 'Validation Observations'])"
      ],
      "metadata": {
        "colab": {
          "base_uri": "https://localhost:8080/",
          "height": 465
        },
        "id": "JKkJLfUFuDed",
        "outputId": "eef7ea1b-b367-4cc5-aa1b-aa237c8b53bd"
      },
      "execution_count": null,
      "outputs": [
        {
          "output_type": "stream",
          "name": "stdout",
          "text": [
            "1/1 [==============================] - 0s 25ms/step\n"
          ]
        },
        {
          "output_type": "execute_result",
          "data": {
            "text/plain": [
              "<matplotlib.legend.Legend at 0x7fef35826200>"
            ]
          },
          "metadata": {},
          "execution_count": 58
        },
        {
          "output_type": "display_data",
          "data": {
            "text/plain": [
              "<Figure size 640x480 with 1 Axes>"
            ],
            "image/png": "[encoded data removed]"
          },
          "metadata": {}
        }
      ]
    },
    {
      "cell_type": "code",
      "source": [
        "test_predictions = model.predict(X_test).flatten()\n",
        "\n",
        "plt.plot(dates_test, test_predictions)\n",
        "plt.plot(dates_test, y_test)\n",
        "plt.legend(['Testing Predictions', 'Testing Observations'])"
      ],
      "metadata": {
        "colab": {
          "base_uri": "https://localhost:8080/",
          "height": 465
        },
        "id": "fpcSW8OSuNGH",
        "outputId": "9df2f915-0bac-473d-e161-f66758da3d10"
      },
      "execution_count": null,
      "outputs": [
        {
          "output_type": "stream",
          "name": "stdout",
          "text": [
            "1/1 [==============================] - 0s 23ms/step\n"
          ]
        },
        {
          "output_type": "execute_result",
          "data": {
            "text/plain": [
              "<matplotlib.legend.Legend at 0x7fef357ff040>"
            ]
          },
          "metadata": {},
          "execution_count": 59
        },
        {
          "output_type": "display_data",
          "data": {
            "text/plain": [
              "<Figure size 640x480 with 1 Axes>"
            ],
            "image/png": "[encoded data removed]"
          },
          "metadata": {}
        }
      ]
    },
    {
      "cell_type": "code",
      "source": [
        "plt.plot(dates_train, train_predictions)\n",
        "plt.plot(dates_train, y_train)\n",
        "plt.plot(dates_val, val_predictions)\n",
        "plt.plot(dates_val, y_val)\n",
        "plt.plot(dates_test, test_predictions)\n",
        "plt.plot(dates_test, y_test)\n",
        "plt.legend(['Training Predictions',\n",
        "            'Training Observations',\n",
        "            'Validation Predictions',\n",
        "            'Validation Observations',\n",
        "            'Testing Predictions',\n",
        "            'Testing Observations'])"
      ],
      "metadata": {
        "colab": {
          "base_uri": "https://localhost:8080/",
          "height": 447
        },
        "id": "g7M5pSTYuOnN",
        "outputId": "ff2727c1-9455-40e8-f26e-ffdc9be437be"
      },
      "execution_count": null,
      "outputs": [
        {
          "output_type": "execute_result",
          "data": {
            "text/plain": [
              "<matplotlib.legend.Legend at 0x7fef36d71870>"
            ]
          },
          "metadata": {},
          "execution_count": 52
        },
        {
          "output_type": "display_data",
          "data": {
            "text/plain": [
              "<Figure size 640x480 with 1 Axes>"
            ],
            "image/png": "[encoded data removed]"
          },
          "metadata": {}
        }
      ]
    },
    {
      "cell_type": "code",
      "source": [
        "from copy import deepcopy\n",
        "\n",
        "recursive_predictions = []\n",
        "recursive_dates = np.concatenate([dates_val, dates_test])\n",
        "\n",
        "for target_date in recursive_dates:\n",
        "  last_window = deepcopy(X_train[-1])\n",
        "  next_prediction = model.predict(np.array([last_window])).flatten()\n",
        "  recursive_predictions.append(next_prediction)\n",
        "  last_window[-1] = next_prediction"
      ],
      "metadata": {
        "colab": {
          "base_uri": "https://localhost:8080/"
        },
        "id": "UCPQ7e6AuRxU",
        "outputId": "abaf60e6-eda1-429e-fa1a-85842f487fc3"
      },
      "execution_count": null,
      "outputs": [
        {
          "output_type": "stream",
          "name": "stdout",
          "text": [
            "1/1 [==============================] - 0s 50ms/step\n",
            "1/1 [==============================] - 0s 39ms/step\n",
            "1/1 [==============================] - 0s 88ms/step\n",
            "1/1 [==============================] - 0s 44ms/step\n",
            "1/1 [==============================] - 0s 54ms/step\n",
            "1/1 [==============================] - 0s 50ms/step\n",
            "1/1 [==============================] - 0s 48ms/step\n",
            "1/1 [==============================] - 0s 26ms/step\n",
            "1/1 [==============================] - 0s 21ms/step\n",
            "1/1 [==============================] - 0s 21ms/step\n",
            "1/1 [==============================] - 0s 22ms/step\n",
            "1/1 [==============================] - 0s 24ms/step\n",
            "1/1 [==============================] - 0s 23ms/step\n",
            "1/1 [==============================] - 0s 22ms/step\n",
            "1/1 [==============================] - 0s 24ms/step\n",
            "1/1 [==============================] - 0s 28ms/step\n",
            "1/1 [==============================] - 0s 23ms/step\n",
            "1/1 [==============================] - 0s 26ms/step\n",
            "1/1 [==============================] - 0s 28ms/step\n",
            "1/1 [==============================] - 0s 23ms/step\n",
            "1/1 [==============================] - 0s 22ms/step\n",
            "1/1 [==============================] - 0s 25ms/step\n",
            "1/1 [==============================] - 0s 24ms/step\n",
            "1/1 [==============================] - 0s 22ms/step\n",
            "1/1 [==============================] - 0s 22ms/step\n",
            "1/1 [==============================] - 0s 25ms/step\n",
            "1/1 [==============================] - 0s 25ms/step\n",
            "1/1 [==============================] - 0s 24ms/step\n",
            "1/1 [==============================] - 0s 24ms/step\n",
            "1/1 [==============================] - 0s 25ms/step\n",
            "1/1 [==============================] - 0s 23ms/step\n",
            "1/1 [==============================] - 0s 23ms/step\n",
            "1/1 [==============================] - 0s 22ms/step\n",
            "1/1 [==============================] - 0s 22ms/step\n",
            "1/1 [==============================] - 0s 26ms/step\n",
            "1/1 [==============================] - 0s 24ms/step\n",
            "1/1 [==============================] - 0s 25ms/step\n",
            "1/1 [==============================] - 0s 27ms/step\n",
            "1/1 [==============================] - 0s 26ms/step\n",
            "1/1 [==============================] - 0s 22ms/step\n",
            "1/1 [==============================] - 0s 36ms/step\n",
            "1/1 [==============================] - 0s 43ms/step\n",
            "1/1 [==============================] - 0s 41ms/step\n",
            "1/1 [==============================] - 0s 74ms/step\n",
            "1/1 [==============================] - 0s 39ms/step\n",
            "1/1 [==============================] - 0s 41ms/step\n",
            "1/1 [==============================] - 0s 56ms/step\n",
            "1/1 [==============================] - 0s 47ms/step\n",
            "1/1 [==============================] - 0s 23ms/step\n",
            "1/1 [==============================] - 0s 23ms/step\n",
            "1/1 [==============================] - 0s 22ms/step\n"
          ]
        }
      ]
    },
    {
      "cell_type": "code",
      "source": [
        "plt.plot(dates_train, train_predictions)\n",
        "plt.plot(dates_train, y_train)\n",
        "plt.plot(dates_val, val_predictions)\n",
        "plt.plot(dates_val, y_val)\n",
        "plt.plot(dates_test, test_predictions)\n",
        "plt.plot(dates_test, y_test)\n",
        "plt.plot(recursive_dates, recursive_predictions)\n",
        "plt.legend(['Training Predictions',\n",
        "            'Training Observations',\n",
        "            'Validation Predictions',\n",
        "            'Validation Observations',\n",
        "            'Testing Predictions',\n",
        "            'Testing Observations',\n",
        "            'Recursive Predictions'])"
      ],
      "metadata": {
        "colab": {
          "base_uri": "https://localhost:8080/",
          "height": 447
        },
        "id": "vwDCFgdtvS9y",
        "outputId": "858e37d2-7d8b-4d2e-8323-14e3cd756184"
      },
      "execution_count": null,
      "outputs": [
        {
          "output_type": "execute_result",
          "data": {
            "text/plain": [
              "<matplotlib.legend.Legend at 0x7fef3589b550>"
            ]
          },
          "metadata": {},
          "execution_count": 61
        },
        {
          "output_type": "display_data",
          "data": {
            "text/plain": [
              "<Figure size 640x480 with 1 Axes>"
            ],
            "image/png": "[encoded data removed]"
          },
          "metadata": {}
        }
      ]
    },
    {
      "cell_type": "code",
      "source": [],
      "metadata": {
        "id": "biRwhEeqvhmc"
      },
      "execution_count": null,
      "outputs": []
    }
  ]
}